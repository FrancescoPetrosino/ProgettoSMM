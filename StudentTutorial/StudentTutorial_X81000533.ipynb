{
 "cells": [
  {
   "cell_type": "markdown",
   "metadata": {},
   "source": [
    "# Student Tutorial - Spotify API\n",
    "\n",
    "### Tutorial di Francesco Petrosino X81000533\n"
   ]
  },
  {
   "cell_type": "markdown",
   "metadata": {},
   "source": [
    "![spotify.jpg](img/spotify.jpg)\n",
    "\n",
    "<br>\n",
    "\n",
    "## Cos'è Spotify\n",
    "\n",
    "> **Spotify** è un servizio musicale svedese che offre lo *streaming on demand* di una selezione di brani di varie case discografiche ed etichette indipendenti, incluse *Sony, EMI, Warner Music Group e Universal*. Lanciato nell'ottobre 2008 dalla startup svedese Spotify AB, il servizio ha oltre 75 milioni di utenti al 10 giugno 2015. Il 14 dicembre 2016 vengono raggiunti i 40 milioni di utenti paganti, acquisendo in soli sei mesi 10 milioni di abbonati. Ha registrato più di 140 milioni di utenti attivi mensili nel giugno 2017 e più di 70 milioni di abbonati nel gennaio 2018.<br><br>\n",
    "*Spotify* è disponibile in versione gratuita e a pagamento, nella maggior parte dei Paesi dell'Europa, nella quasi totalità delle Americhe, in Australia, in Nuova Zelanda e in alcuni Paesi dell'Asia. Il servizio è fruibile attraverso Microsoft Windows, macOS, GNU/Linux (solo per Debian e Ubuntu e senza supporto tecnico), Google Chrome OS, Telia Digital-tv e i dispositivi mobili equipaggiati con iOS (iPod/iPhone/iPad), Android, BlackBerry (in versione beta limitata), Windows Mobile, Windows Phone, S60 (Symbian), webOS, Squeezebox, Boxee, Sonos, Playstation 3, PlayStation 4, PlayStation 5, Xbox One, WD TV e MeeGo.<br><br>\n",
    "La musica può essere visualizzata per artista, album, etichetta, genere o playlist così come grazie a ricerche dirette. Sui dispositivi desktop un collegamento permette all'ascoltatore di acquistare materiale selezionato presso venditori di terze parti.<br>\n",
    "\n",
    "Da <a>https://it.wikipedia.org/wiki/Spotify</a>"
   ]
  },
  {
   "cell_type": "markdown",
   "metadata": {},
   "source": [
    "## API di Spotify\n",
    "\n",
    "Le API ufficiali fornite da Spotify permettono di ottenere informazioni sulle tracce per conoscere la loro valenza, numero di ascolti, numero di mi piace, e molto altro. Per casi d'uso più avanzati, è possibile ottenere dati di analisi approfonditi su tracce come: segmenti, tatums, bars, beats, pitches, e altro.<br>\n",
    "I clients dovranno autenticarsi attraverso OAuth2.\n",
    "\n",
    "![Spotify doc](img/spotify_doc.jpg)\n",
    "\n",
    "Link alla documentazione: <a>https://developer.spotify.com/documentation/</a>"
   ]
  },
  {
   "cell_type": "markdown",
   "metadata": {},
   "source": [
    "## Accesso alle API\n",
    "\n",
    "Per poter utilizzare le API fornite da Spotify, è necessario sottoiscriversi a __[Spotify Developer Dashboard](https://developer.spotify.com/)__."
   ]
  },
  {
   "cell_type": "markdown",
   "metadata": {},
   "source": [
    "![Spotify developer](img/spotify_developer.JPG)"
   ]
  },
  {
   "cell_type": "markdown",
   "metadata": {},
   "source": [
    "Per questo **Student Tutorial**, l'app si chiamerà *ProgettoSMM* (da Social Media Management) e sarà un piccolo script in Python per ottenere un semplice riepilogo dell'attività di un account Spotify e inoltre visualizzare informazioni sulle sue 10 tracks più ascoltate.<br>\n",
    "Una volta cliccato su *create an app* la schermata si richiede alcune informazioni necessarie per poi restituirti una piccola dashboard personale."
   ]
  },
  {
   "cell_type": "markdown",
   "metadata": {},
   "source": [
    "![Spotify developer](img/spotify_developer_2.JPG)"
   ]
  },
  {
   "cell_type": "markdown",
   "metadata": {},
   "source": [
    "Creata l'app, prendere nota di *Client ID* e *Client Secret*. Fatto ciò cliccare su **Edit Settings** ed aggiungere un *Redirect URIs* (ad es: http://localhost:8080). Cliccando su *Save* avremo tutto il necessario per procedere con il tutorial."
   ]
  },
  {
   "cell_type": "markdown",
   "metadata": {},
   "source": [
    "## API Wrapper: SPOTIPY\n",
    "\n",
    "Il wrapper usato in questo tutorial è __[Python Spotify API Wrapper](https://spotipy.readthedocs.io/en/2.22.0/)__. Si tratta di un pacchetto per Python il cui scopo è fornire un metodo di accesso semplice alle API di Spotify. L'obiettivo di SPOTIPY è infatti fornire strumenti facili da usare e nel rispetto di tutte le regole d'accesso alle API."
   ]
  },
  {
   "cell_type": "markdown",
   "metadata": {},
   "source": [
    "### SPOTIPY Quick Start\n",
    "\n",
    "Come spiegato nella guida __[Quick Start di SPOTIPY](https://spotipy.readthedocs.io/en/2.22.0/#installation)__ creiamo un'instanza per poter contattare i vari metodi esposti dalla libreria, tramite i seguenti comandi:"
   ]
  },
  {
   "cell_type": "code",
   "execution_count": null,
   "metadata": {},
   "outputs": [],
   "source": [
    "pip install spotipy"
   ]
  },
  {
   "cell_type": "markdown",
   "metadata": {},
   "source": [
    "Inseriamo dunque le nostre credenziali fornite nei punti precedenti (durante la fase di creazione della nostra nuova app)"
   ]
  },
  {
   "cell_type": "code",
   "execution_count": 1,
   "metadata": {},
   "outputs": [],
   "source": [
    "SPOTIPY_CLIENT_ID='b48898f561ab4533b7396439e6610ff4'\n",
    "SPOTIPY_CLIENT_SECRET='2c5bfc5f50b74f899e7ae755f14df67d'\n",
    "REDIRECT_URI='http://localhost:8080'"
   ]
  },
  {
   "cell_type": "markdown",
   "metadata": {},
   "source": [
    "Importiamo le librerie necessarie per interagire con spotipy"
   ]
  },
  {
   "cell_type": "code",
   "execution_count": 2,
   "metadata": {},
   "outputs": [],
   "source": [
    "import spotipy\n",
    "from spotipy.oauth2 import SpotifyOAuth"
   ]
  },
  {
   "cell_type": "markdown",
   "metadata": {},
   "source": [
    "Creiamo una nuova istanza - autenticata - così da poterla riutilizzare per richiamare i vari metodi della libreria"
   ]
  },
  {
   "cell_type": "code",
   "execution_count": 3,
   "metadata": {},
   "outputs": [],
   "source": [
    "scope = [\n",
    "    'user-top-read'\n",
    "]\n",
    "\n",
    "auth_manager = SpotifyOAuth(\n",
    "    client_id=SPOTIPY_CLIENT_ID,\n",
    "    client_secret=SPOTIPY_CLIENT_SECRET,\n",
    "    redirect_uri=REDIRECT_URI,\n",
    "    scope=scope\n",
    ")\n",
    "\n",
    "sp = spotipy.Spotify(auth_manager=auth_manager)"
   ]
  },
  {
   "cell_type": "markdown",
   "metadata": {},
   "source": [
    "È possibile verificare l'identità dell'utente con cui si è effettuato l'accesso attraverso il metodo *current_user()* restituendo in questo caso il nome dell'account"
   ]
  },
  {
   "cell_type": "code",
   "execution_count": 4,
   "metadata": {},
   "outputs": [
    {
     "name": "stdout",
     "output_type": "stream",
     "text": [
      "Wellcome, Francesco Petrosino\n"
     ]
    }
   ],
   "source": [
    "current_user = sp.current_user()\n",
    "\n",
    "if current_user :\n",
    "    print('Wellcome,', current_user['display_name'])"
   ]
  },
  {
   "cell_type": "markdown",
   "metadata": {},
   "source": [
    "Avendo così configurato tutto, è finalmente possibile arrivare all'obiettivo del tutorial."
   ]
  },
  {
   "cell_type": "markdown",
   "metadata": {},
   "source": [
    "## Ottenere le proprie 10 tracks più ascoltate e le informazioni più rilevanti"
   ]
  },
  {
   "cell_type": "markdown",
   "metadata": {},
   "source": [
    "Analizzare con pandas:\n",
    "[] lista delle tracce più ascoltate\n",
    "[] informazioni dell'user"
   ]
  },
  {
   "cell_type": "markdown",
   "metadata": {},
   "source": [
    "Questo piccolo progetto fornisce un esempio di uso delle API di Spotify, mostrando alcune delle funzionalità offerte. Lo scopo di questo script è, come illustrato precedentemente, mostrare un piccolo resoconto di un qualunque account utente sulla piattaforma e una lista contenente le tracks più ascoltate al momento e alcune informazioni rilevanti."
   ]
  },
  {
   "cell_type": "markdown",
   "metadata": {},
   "source": [
    "Prima di procedere però, importiamo la libreria **pandas** necessaria per la manipolazione dei dati.<br>\n",
    "> **Pandas** è una libreria di alto livello che mette a disposizione diversi strumenti e strutture dati per l'analisi dei dati. In particolare, Pandas è molto utile per caricare, manipolare e visualizzare i dati in maniera veloce e conveniente prima di passare all'analisi vera e propria."
   ]
  },
  {
   "cell_type": "code",
   "execution_count": 5,
   "metadata": {},
   "outputs": [],
   "source": [
    "import pandas"
   ]
  },
  {
   "cell_type": "markdown",
   "metadata": {},
   "source": [
    "Definendo un dataframe, potremmo ispezionare alcune delle informazioni rilevanti delle varie tracks..<br>\n",
    "> Un **DataFrame** è una tabella di dati in cui ogni riga rappresenta un elemento \"sotto esame\" della lista, e ogni colonna invece rappresenta una particolare informazione di quell'elemento."
   ]
  },
  {
   "cell_type": "markdown",
   "metadata": {},
   "source": [
    "Per esempio, l'utente che abbiamo scelto per il tutorial ha queste informazioni:"
   ]
  },
  {
   "cell_type": "code",
   "execution_count": 6,
   "metadata": {
    "scrolled": true
   },
   "outputs": [
    {
     "data": {
      "text/html": [
       "<div>\n",
       "<style scoped>\n",
       "    .dataframe tbody tr th:only-of-type {\n",
       "        vertical-align: middle;\n",
       "    }\n",
       "\n",
       "    .dataframe tbody tr th {\n",
       "        vertical-align: top;\n",
       "    }\n",
       "\n",
       "    .dataframe thead th {\n",
       "        text-align: right;\n",
       "    }\n",
       "</style>\n",
       "<table border=\"1\" class=\"dataframe\">\n",
       "  <thead>\n",
       "    <tr style=\"text-align: right;\">\n",
       "      <th></th>\n",
       "      <th>display_name</th>\n",
       "      <th>followers_num</th>\n",
       "      <th>profile_link</th>\n",
       "      <th>id</th>\n",
       "      <th>images</th>\n",
       "      <th>type</th>\n",
       "      <th>uri</th>\n",
       "    </tr>\n",
       "  </thead>\n",
       "  <tbody>\n",
       "    <tr>\n",
       "      <th>current_user</th>\n",
       "      <td>Francesco Petrosino</td>\n",
       "      <td>11</td>\n",
       "      <td>https://api.spotify.com/v1/users/21ktslj6lkgx6...</td>\n",
       "      <td>21ktslj6lkgx6wswmfwu5cwuq</td>\n",
       "      <td>{'height': None, 'url': 'https://platform-look...</td>\n",
       "      <td>user</td>\n",
       "      <td>spotify:user:21ktslj6lkgx6wswmfwu5cwuq</td>\n",
       "    </tr>\n",
       "  </tbody>\n",
       "</table>\n",
       "</div>"
      ],
      "text/plain": [
       "                     display_name  followers_num  \\\n",
       "current_user  Francesco Petrosino             11   \n",
       "\n",
       "                                                   profile_link  \\\n",
       "current_user  https://api.spotify.com/v1/users/21ktslj6lkgx6...   \n",
       "\n",
       "                                     id  \\\n",
       "current_user  21ktslj6lkgx6wswmfwu5cwuq   \n",
       "\n",
       "                                                         images  type  \\\n",
       "current_user  {'height': None, 'url': 'https://platform-look...  user   \n",
       "\n",
       "                                                 uri  \n",
       "current_user  spotify:user:21ktslj6lkgx6wswmfwu5cwuq  "
      ]
     },
     "execution_count": 6,
     "metadata": {},
     "output_type": "execute_result"
    }
   ],
   "source": [
    "user = {\n",
    "    'display_name': current_user['display_name'],\n",
    "    'followers_num': current_user['followers']['total'],\n",
    "    'profile_link': current_user['href'],\n",
    "    'id': current_user['id'],\n",
    "    'images': current_user['images'],\n",
    "    'type': current_user['type'],\n",
    "    'uri': current_user['uri']\n",
    "}\n",
    "\n",
    "user_df = pandas.DataFrame(user, index={'current_user'})\n",
    "\n",
    "user_df"
   ]
  },
  {
   "cell_type": "markdown",
   "metadata": {},
   "source": [
    "Segue il codice per ottenere le tracks ascoltate di frequente dall'utente corrente"
   ]
  },
  {
   "cell_type": "code",
   "execution_count": 7,
   "metadata": {
    "scrolled": true
   },
   "outputs": [],
   "source": [
    "tracks_take = 10\n",
    "\n",
    "raw_result = sp.current_user_top_tracks(time_range='medium_term', limit=tracks_take)"
   ]
  },
  {
   "cell_type": "markdown",
   "metadata": {},
   "source": [
    "Costruiamo adesso un dataframe a partire dal risultato visto in precedenza"
   ]
  },
  {
   "cell_type": "code",
   "execution_count": 8,
   "metadata": {
    "scrolled": false
   },
   "outputs": [
    {
     "data": {
      "text/html": [
       "<div>\n",
       "<style scoped>\n",
       "    .dataframe tbody tr th:only-of-type {\n",
       "        vertical-align: middle;\n",
       "    }\n",
       "\n",
       "    .dataframe tbody tr th {\n",
       "        vertical-align: top;\n",
       "    }\n",
       "\n",
       "    .dataframe thead th {\n",
       "        text-align: right;\n",
       "    }\n",
       "</style>\n",
       "<table border=\"1\" class=\"dataframe\">\n",
       "  <thead>\n",
       "    <tr style=\"text-align: right;\">\n",
       "      <th></th>\n",
       "      <th>Id</th>\n",
       "      <th>Name</th>\n",
       "      <th>Artist name</th>\n",
       "      <th>Artist uri</th>\n",
       "      <th>Album name</th>\n",
       "      <th>Album release date</th>\n",
       "      <th>Album total tracks</th>\n",
       "      <th>Album uri</th>\n",
       "      <th>Disc number</th>\n",
       "      <th>Duration (ms)</th>\n",
       "      <th>Explicit</th>\n",
       "      <th>Href</th>\n",
       "      <th>Popularity</th>\n",
       "      <th>Uri</th>\n",
       "    </tr>\n",
       "  </thead>\n",
       "  <tbody>\n",
       "    <tr>\n",
       "      <th>0</th>\n",
       "      <td>7hxHWCCAIIxFLCzvDgnQHX</td>\n",
       "      <td>Lemonade (feat. Gunna, Don Toliver &amp; NAV)</td>\n",
       "      <td>Internet Money</td>\n",
       "      <td>spotify:artist:6MPCFvOQv5cIGfw3jODMF0</td>\n",
       "      <td>B4 The Storm</td>\n",
       "      <td>2020-08-28</td>\n",
       "      <td>17</td>\n",
       "      <td>spotify:album:2vGU0DOcfsDee0euvhl1iZ</td>\n",
       "      <td>1</td>\n",
       "      <td>195428</td>\n",
       "      <td>True</td>\n",
       "      <td>https://api.spotify.com/v1/tracks/7hxHWCCAIIxF...</td>\n",
       "      <td>78</td>\n",
       "      <td>spotify:track:7hxHWCCAIIxFLCzvDgnQHX</td>\n",
       "    </tr>\n",
       "    <tr>\n",
       "      <th>1</th>\n",
       "      <td>0O6u0VJ46W86TxN9wgyqDj</td>\n",
       "      <td>I Like You (A Happier Song) (with Doja Cat)</td>\n",
       "      <td>Post Malone</td>\n",
       "      <td>spotify:artist:246dkjvS1zLTtiykXe5h60</td>\n",
       "      <td>Twelve Carat Toothache</td>\n",
       "      <td>2022-06-03</td>\n",
       "      <td>14</td>\n",
       "      <td>spotify:album:3HHNR44YbP7XogMVwzbodx</td>\n",
       "      <td>1</td>\n",
       "      <td>192840</td>\n",
       "      <td>True</td>\n",
       "      <td>https://api.spotify.com/v1/tracks/0O6u0VJ46W86...</td>\n",
       "      <td>90</td>\n",
       "      <td>spotify:track:0O6u0VJ46W86TxN9wgyqDj</td>\n",
       "    </tr>\n",
       "    <tr>\n",
       "      <th>2</th>\n",
       "      <td>76OOmMnaTR0ofp52ZhUSyT</td>\n",
       "      <td>Staring At The Bottle</td>\n",
       "      <td>Jerome</td>\n",
       "      <td>spotify:artist:4xcDVatLFh6qlcm41er3LV</td>\n",
       "      <td>Staring At The Bottle</td>\n",
       "      <td>2021-09-17</td>\n",
       "      <td>1</td>\n",
       "      <td>spotify:album:4HWRzHxqJyXWdvN427p8VU</td>\n",
       "      <td>1</td>\n",
       "      <td>151368</td>\n",
       "      <td>False</td>\n",
       "      <td>https://api.spotify.com/v1/tracks/76OOmMnaTR0o...</td>\n",
       "      <td>64</td>\n",
       "      <td>spotify:track:76OOmMnaTR0ofp52ZhUSyT</td>\n",
       "    </tr>\n",
       "    <tr>\n",
       "      <th>3</th>\n",
       "      <td>4zN21mbAuaD0WqtmaTZZeP</td>\n",
       "      <td>Ferrari</td>\n",
       "      <td>James Hype</td>\n",
       "      <td>spotify:artist:43BxCL6t4c73BQnIJtry5v</td>\n",
       "      <td>Ferrari</td>\n",
       "      <td>2022-04-01</td>\n",
       "      <td>1</td>\n",
       "      <td>spotify:album:6moZ4sNThthUAwCklyuPY8</td>\n",
       "      <td>1</td>\n",
       "      <td>186661</td>\n",
       "      <td>False</td>\n",
       "      <td>https://api.spotify.com/v1/tracks/4zN21mbAuaD0...</td>\n",
       "      <td>88</td>\n",
       "      <td>spotify:track:4zN21mbAuaD0WqtmaTZZeP</td>\n",
       "    </tr>\n",
       "    <tr>\n",
       "      <th>4</th>\n",
       "      <td>2tIyoiGw4F82z2C8zb7eZB</td>\n",
       "      <td>TU MI HAI CAPITO (feat. Sfera Ebbasta)</td>\n",
       "      <td>Madame</td>\n",
       "      <td>spotify:artist:1vgQksyJ0IVz8y9XerEOy3</td>\n",
       "      <td>MADAME</td>\n",
       "      <td>2021-06-03</td>\n",
       "      <td>18</td>\n",
       "      <td>spotify:album:7oF6ed3aSHU6aDD4MD3LIr</td>\n",
       "      <td>1</td>\n",
       "      <td>211498</td>\n",
       "      <td>False</td>\n",
       "      <td>https://api.spotify.com/v1/tracks/2tIyoiGw4F82...</td>\n",
       "      <td>62</td>\n",
       "      <td>spotify:track:2tIyoiGw4F82z2C8zb7eZB</td>\n",
       "    </tr>\n",
       "    <tr>\n",
       "      <th>5</th>\n",
       "      <td>3rmo8F54jFF8OgYsqTxm5d</td>\n",
       "      <td>Bad Habits</td>\n",
       "      <td>Ed Sheeran</td>\n",
       "      <td>spotify:artist:6eUKZXaKkcviH0Ku9w2n3V</td>\n",
       "      <td>=</td>\n",
       "      <td>2021-10-29</td>\n",
       "      <td>14</td>\n",
       "      <td>spotify:album:32iAEBstCjauDhyKpGjTuq</td>\n",
       "      <td>1</td>\n",
       "      <td>230746</td>\n",
       "      <td>False</td>\n",
       "      <td>https://api.spotify.com/v1/tracks/3rmo8F54jFF8...</td>\n",
       "      <td>88</td>\n",
       "      <td>spotify:track:3rmo8F54jFF8OgYsqTxm5d</td>\n",
       "    </tr>\n",
       "    <tr>\n",
       "      <th>6</th>\n",
       "      <td>4iJyoBOLtHqaGxP12qzhQI</td>\n",
       "      <td>Peaches (feat. Daniel Caesar &amp; Giveon)</td>\n",
       "      <td>Justin Bieber</td>\n",
       "      <td>spotify:artist:1uNFoZAHBGtllmzznpCI3s</td>\n",
       "      <td>Justice</td>\n",
       "      <td>2021-03-19</td>\n",
       "      <td>16</td>\n",
       "      <td>spotify:album:5dGWwsZ9iB2Xc3UKR0gif2</td>\n",
       "      <td>1</td>\n",
       "      <td>198081</td>\n",
       "      <td>True</td>\n",
       "      <td>https://api.spotify.com/v1/tracks/4iJyoBOLtHqa...</td>\n",
       "      <td>85</td>\n",
       "      <td>spotify:track:4iJyoBOLtHqaGxP12qzhQI</td>\n",
       "    </tr>\n",
       "    <tr>\n",
       "      <th>7</th>\n",
       "      <td>50nfwKoDiSYg8zOCREWAm5</td>\n",
       "      <td>Shivers</td>\n",
       "      <td>Ed Sheeran</td>\n",
       "      <td>spotify:artist:6eUKZXaKkcviH0Ku9w2n3V</td>\n",
       "      <td>=</td>\n",
       "      <td>2021-10-29</td>\n",
       "      <td>14</td>\n",
       "      <td>spotify:album:32iAEBstCjauDhyKpGjTuq</td>\n",
       "      <td>1</td>\n",
       "      <td>207853</td>\n",
       "      <td>False</td>\n",
       "      <td>https://api.spotify.com/v1/tracks/50nfwKoDiSYg...</td>\n",
       "      <td>88</td>\n",
       "      <td>spotify:track:50nfwKoDiSYg8zOCREWAm5</td>\n",
       "    </tr>\n",
       "    <tr>\n",
       "      <th>8</th>\n",
       "      <td>6yaNNYWPjkWHbh1jADEyJO</td>\n",
       "      <td>KUMITE</td>\n",
       "      <td>Salmo</td>\n",
       "      <td>spotify:artist:3hBQ4zniNdQf1cqqo6hzuW</td>\n",
       "      <td>FLOP</td>\n",
       "      <td>2021-10-01</td>\n",
       "      <td>17</td>\n",
       "      <td>spotify:album:7DvK67C21i6go7olhjvLgT</td>\n",
       "      <td>1</td>\n",
       "      <td>170018</td>\n",
       "      <td>False</td>\n",
       "      <td>https://api.spotify.com/v1/tracks/6yaNNYWPjkWH...</td>\n",
       "      <td>67</td>\n",
       "      <td>spotify:track:6yaNNYWPjkWHbh1jADEyJO</td>\n",
       "    </tr>\n",
       "    <tr>\n",
       "      <th>9</th>\n",
       "      <td>6z7tGTD6yvyloEm6K2H8EX</td>\n",
       "      <td>LUNA PIENA (con IRAMA)</td>\n",
       "      <td>Rkomi</td>\n",
       "      <td>spotify:artist:056KMTw6IztdQjBmFfVyO3</td>\n",
       "      <td>TAXI DRIVER</td>\n",
       "      <td>2021-11-30</td>\n",
       "      <td>15</td>\n",
       "      <td>spotify:album:4D04TN7Kw7Bq98kfDjUmgh</td>\n",
       "      <td>1</td>\n",
       "      <td>166983</td>\n",
       "      <td>True</td>\n",
       "      <td>https://api.spotify.com/v1/tracks/6z7tGTD6yvyl...</td>\n",
       "      <td>67</td>\n",
       "      <td>spotify:track:6z7tGTD6yvyloEm6K2H8EX</td>\n",
       "    </tr>\n",
       "  </tbody>\n",
       "</table>\n",
       "</div>"
      ],
      "text/plain": [
       "                       Id                                         Name  \\\n",
       "0  7hxHWCCAIIxFLCzvDgnQHX    Lemonade (feat. Gunna, Don Toliver & NAV)   \n",
       "1  0O6u0VJ46W86TxN9wgyqDj  I Like You (A Happier Song) (with Doja Cat)   \n",
       "2  76OOmMnaTR0ofp52ZhUSyT                        Staring At The Bottle   \n",
       "3  4zN21mbAuaD0WqtmaTZZeP                                      Ferrari   \n",
       "4  2tIyoiGw4F82z2C8zb7eZB       TU MI HAI CAPITO (feat. Sfera Ebbasta)   \n",
       "5  3rmo8F54jFF8OgYsqTxm5d                                   Bad Habits   \n",
       "6  4iJyoBOLtHqaGxP12qzhQI       Peaches (feat. Daniel Caesar & Giveon)   \n",
       "7  50nfwKoDiSYg8zOCREWAm5                                      Shivers   \n",
       "8  6yaNNYWPjkWHbh1jADEyJO                                       KUMITE   \n",
       "9  6z7tGTD6yvyloEm6K2H8EX                       LUNA PIENA (con IRAMA)   \n",
       "\n",
       "      Artist name                             Artist uri  \\\n",
       "0  Internet Money  spotify:artist:6MPCFvOQv5cIGfw3jODMF0   \n",
       "1     Post Malone  spotify:artist:246dkjvS1zLTtiykXe5h60   \n",
       "2          Jerome  spotify:artist:4xcDVatLFh6qlcm41er3LV   \n",
       "3      James Hype  spotify:artist:43BxCL6t4c73BQnIJtry5v   \n",
       "4          Madame  spotify:artist:1vgQksyJ0IVz8y9XerEOy3   \n",
       "5      Ed Sheeran  spotify:artist:6eUKZXaKkcviH0Ku9w2n3V   \n",
       "6   Justin Bieber  spotify:artist:1uNFoZAHBGtllmzznpCI3s   \n",
       "7      Ed Sheeran  spotify:artist:6eUKZXaKkcviH0Ku9w2n3V   \n",
       "8           Salmo  spotify:artist:3hBQ4zniNdQf1cqqo6hzuW   \n",
       "9           Rkomi  spotify:artist:056KMTw6IztdQjBmFfVyO3   \n",
       "\n",
       "               Album name Album release date  Album total tracks  \\\n",
       "0            B4 The Storm         2020-08-28                  17   \n",
       "1  Twelve Carat Toothache         2022-06-03                  14   \n",
       "2   Staring At The Bottle         2021-09-17                   1   \n",
       "3                 Ferrari         2022-04-01                   1   \n",
       "4                  MADAME         2021-06-03                  18   \n",
       "5                       =         2021-10-29                  14   \n",
       "6                 Justice         2021-03-19                  16   \n",
       "7                       =         2021-10-29                  14   \n",
       "8                    FLOP         2021-10-01                  17   \n",
       "9             TAXI DRIVER         2021-11-30                  15   \n",
       "\n",
       "                              Album uri  Disc number  Duration (ms)  Explicit  \\\n",
       "0  spotify:album:2vGU0DOcfsDee0euvhl1iZ            1         195428      True   \n",
       "1  spotify:album:3HHNR44YbP7XogMVwzbodx            1         192840      True   \n",
       "2  spotify:album:4HWRzHxqJyXWdvN427p8VU            1         151368     False   \n",
       "3  spotify:album:6moZ4sNThthUAwCklyuPY8            1         186661     False   \n",
       "4  spotify:album:7oF6ed3aSHU6aDD4MD3LIr            1         211498     False   \n",
       "5  spotify:album:32iAEBstCjauDhyKpGjTuq            1         230746     False   \n",
       "6  spotify:album:5dGWwsZ9iB2Xc3UKR0gif2            1         198081      True   \n",
       "7  spotify:album:32iAEBstCjauDhyKpGjTuq            1         207853     False   \n",
       "8  spotify:album:7DvK67C21i6go7olhjvLgT            1         170018     False   \n",
       "9  spotify:album:4D04TN7Kw7Bq98kfDjUmgh            1         166983      True   \n",
       "\n",
       "                                                Href  Popularity  \\\n",
       "0  https://api.spotify.com/v1/tracks/7hxHWCCAIIxF...          78   \n",
       "1  https://api.spotify.com/v1/tracks/0O6u0VJ46W86...          90   \n",
       "2  https://api.spotify.com/v1/tracks/76OOmMnaTR0o...          64   \n",
       "3  https://api.spotify.com/v1/tracks/4zN21mbAuaD0...          88   \n",
       "4  https://api.spotify.com/v1/tracks/2tIyoiGw4F82...          62   \n",
       "5  https://api.spotify.com/v1/tracks/3rmo8F54jFF8...          88   \n",
       "6  https://api.spotify.com/v1/tracks/4iJyoBOLtHqa...          85   \n",
       "7  https://api.spotify.com/v1/tracks/50nfwKoDiSYg...          88   \n",
       "8  https://api.spotify.com/v1/tracks/6yaNNYWPjkWH...          67   \n",
       "9  https://api.spotify.com/v1/tracks/6z7tGTD6yvyl...          67   \n",
       "\n",
       "                                    Uri  \n",
       "0  spotify:track:7hxHWCCAIIxFLCzvDgnQHX  \n",
       "1  spotify:track:0O6u0VJ46W86TxN9wgyqDj  \n",
       "2  spotify:track:76OOmMnaTR0ofp52ZhUSyT  \n",
       "3  spotify:track:4zN21mbAuaD0WqtmaTZZeP  \n",
       "4  spotify:track:2tIyoiGw4F82z2C8zb7eZB  \n",
       "5  spotify:track:3rmo8F54jFF8OgYsqTxm5d  \n",
       "6  spotify:track:4iJyoBOLtHqaGxP12qzhQI  \n",
       "7  spotify:track:50nfwKoDiSYg8zOCREWAm5  \n",
       "8  spotify:track:6yaNNYWPjkWHbh1jADEyJO  \n",
       "9  spotify:track:6z7tGTD6yvyloEm6K2H8EX  "
      ]
     },
     "execution_count": 8,
     "metadata": {},
     "output_type": "execute_result"
    }
   ],
   "source": [
    "tracks = []\n",
    "columns_df = ['Id', 'Name', 'Artist name', 'Artist uri', 'Album name', 'Album release date', 'Album total tracks', 'Album uri', 'Disc number', 'Duration (ms)', 'Explicit', 'Href', 'Popularity', 'Uri']\n",
    "\n",
    "for track in raw_result['items'] :\n",
    "    tracks.append([\n",
    "        track['id'],\n",
    "        track['name'],\n",
    "        track['artists'][0]['name'],\n",
    "        track['artists'][0]['uri'],\n",
    "        track['album']['name'],\n",
    "        track['album']['release_date'],\n",
    "        track['album']['total_tracks'],\n",
    "        track['album']['uri'],\n",
    "        track['disc_number'],\n",
    "        track['duration_ms'],\n",
    "        track['explicit'],\n",
    "        track['href'],\n",
    "        track['popularity'],\n",
    "        track['uri']\n",
    "    ])\n",
    "    \n",
    "tracks_df = pandas.DataFrame(tracks, columns = columns_df)\n",
    "\n",
    "tracks_df"
   ]
  },
  {
   "cell_type": "markdown",
   "metadata": {},
   "source": [
    "## Conclusione\n",
    "\n",
    "Questo student tutorial si pone come piccola guida di introduzione allo sviluppo di applicazioni per l'analisi dati e di statistica, illustrando i passaggi per ottenere l'autenticazione e presentando in breve le API ufficiali.<br><br>\n",
    "Per approfondimenti, visitare la documentazione ufficiale delle API di Spotify: <a>https://developer.spotify.com/documentation/</a>"
   ]
  }
 ],
 "metadata": {
  "kernelspec": {
   "display_name": "Python 3 (ipykernel)",
   "language": "python",
   "name": "python3"
  },
  "language_info": {
   "codemirror_mode": {
    "name": "ipython",
    "version": 3
   },
   "file_extension": ".py",
   "mimetype": "text/x-python",
   "name": "python",
   "nbconvert_exporter": "python",
   "pygments_lexer": "ipython3",
   "version": "3.9.13"
  }
 },
 "nbformat": 4,
 "nbformat_minor": 4
}
