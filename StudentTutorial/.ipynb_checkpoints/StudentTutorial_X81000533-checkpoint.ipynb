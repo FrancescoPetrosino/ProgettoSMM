{
 "cells": [
  {
   "cell_type": "markdown",
   "metadata": {},
   "source": [
    "# Student Tutorial - Spotify API\n",
    "\n",
    "### Tutorial di Francesco Petrosino X81000533\n"
   ]
  },
  {
   "cell_type": "markdown",
   "metadata": {},
   "source": [
    "![spotify.jpg](img/spotify.jpg)\n",
    "\n",
    "<br>\n",
    "\n",
    "## Cos'è Spotify\n",
    "\n",
    "> **Spotify** è un servizio musicale svedese che offre lo *streaming on demand* di una selezione di brani di varie case discografiche ed etichette indipendenti, incluse *Sony, EMI, Warner Music Group e Universal*. Lanciato nell'ottobre 2008 dalla startup svedese Spotify AB, il servizio ha oltre 75 milioni di utenti al 10 giugno 2015. Il 14 dicembre 2016 vengono raggiunti i 40 milioni di utenti paganti, acquisendo in soli sei mesi 10 milioni di abbonati. Ha registrato più di 140 milioni di utenti attivi mensili nel giugno 2017 e più di 70 milioni di abbonati nel gennaio 2018.<br><br>\n",
    "*Spotify* è disponibile in versione gratuita e a pagamento, nella maggior parte dei Paesi dell'Europa, nella quasi totalità delle Americhe, in Australia, in Nuova Zelanda e in alcuni Paesi dell'Asia. Il servizio è fruibile attraverso Microsoft Windows, macOS, GNU/Linux (solo per Debian e Ubuntu e senza supporto tecnico), Google Chrome OS, Telia Digital-tv e i dispositivi mobili equipaggiati con iOS (iPod/iPhone/iPad), Android, BlackBerry (in versione beta limitata), Windows Mobile, Windows Phone, S60 (Symbian), webOS, Squeezebox, Boxee, Sonos, Playstation 3, PlayStation 4, PlayStation 5, Xbox One, WD TV e MeeGo.<br><br>\n",
    "La musica può essere visualizzata per artista, album, etichetta, genere o playlist così come grazie a ricerche dirette. Sui dispositivi desktop un collegamento permette all'ascoltatore di acquistare materiale selezionato presso venditori di terze parti.<br>\n",
    "\n",
    "Da <a>https://it.wikipedia.org/wiki/Spotify</a>"
   ]
  },
  {
   "cell_type": "markdown",
   "metadata": {},
   "source": [
    "## API di Spotify\n",
    "\n",
    "Le API ufficiali fornite da Spotify permettono di ottenere informazioni sulle tracce per conoscere la loro valenza, numero di ascolti, numero di mi piace, e molto altro. Per casi d'uso più avanzati, è possibile ottenere dati di analisi approfonditi su tracce come: segmenti, tatums, bars, beats, pitches, e altro.<br>\n",
    "I clients dovranno autenticarsi attraverso OAuth2.\n",
    "\n",
    "![Spotify doc](img/spotify_doc.jpg)\n",
    "\n",
    "Link alla documentazione: <a>https://developer.spotify.com/documentation/</a>"
   ]
  },
  {
   "cell_type": "markdown",
   "metadata": {},
   "source": [
    "## Accesso alle API\n",
    "\n",
    "Per poter utilizzare le API fornite da Spotify, è necessario sottoiscriversi a __[Spotify Developer Dashboard](https://developer.spotify.com/)__."
   ]
  },
  {
   "cell_type": "markdown",
   "metadata": {},
   "source": [
    "![Spotify developer](img/spotify_developer.JPG)"
   ]
  },
  {
   "cell_type": "markdown",
   "metadata": {},
   "source": [
    "Per questo **Student Tutorial**, l'app si chiamerà *ProgettoSMM* (da Social Media Management) e sarà un piccolo script in Python per ottenere un semplice riepilogo dell'attività di un account Spotify e inoltre visualizzare informazioni sulle sue 10 tracks più ascoltate.<br>\n",
    "Una volta cliccato su *create an app* la schermata si richiede alcune informazioni necessarie per poi restituirti una piccola dashboard personale."
   ]
  },
  {
   "cell_type": "markdown",
   "metadata": {},
   "source": [
    "![Spotify developer](img/spotify_developer_2.JPG)"
   ]
  },
  {
   "cell_type": "markdown",
   "metadata": {},
   "source": [
    "Creata l'app, prendere nota di *Client ID* e *Client Secret*. Fatto ciò cliccare su **Edit Settings** ed aggiungere un *Redirect URIs* (ad es: http://localhost:8080). Cliccando su *Save* avremo tutto il necessario per procedere con il tutorial."
   ]
  },
  {
   "cell_type": "markdown",
   "metadata": {},
   "source": [
    "## API Wrapper: SPOTIPY\n",
    "\n",
    "Il wrapper usato in questo tutorial è __[Python Spotify API Wrapper](https://spotipy.readthedocs.io/en/2.22.0/)__. Si tratta di un pacchetto per Python il cui scopo è fornire un metodo di accesso semplice alle API di Spotify. L'obiettivo di SPOTIPY è infatti fornire strumenti facili da usare e nel rispetto di tutte le regole d'accesso alle API."
   ]
  },
  {
   "cell_type": "markdown",
   "metadata": {},
   "source": [
    "### SPOTIPY Quick Start\n",
    "\n",
    "Come spiegato nella guida __[Quick Start di SPOTIPY](https://spotipy.readthedocs.io/en/2.22.0/#installation)__ creiamo un'instanza per poter contattare i vari metodi esposti dalla libreria, tramite i seguenti comandi:"
   ]
  },
  {
   "cell_type": "code",
   "execution_count": 1,
   "metadata": {},
   "outputs": [
    {
     "name": "stdout",
     "output_type": "stream",
     "text": [
      "Requirement already satisfied: spotipy in c:\\users\\franc\\anaconda3\\lib\\site-packages (2.22.0)\n",
      "Requirement already satisfied: urllib3>=1.26.0 in c:\\users\\franc\\anaconda3\\lib\\site-packages (from spotipy) (1.26.11)\n",
      "Requirement already satisfied: six>=1.15.0 in c:\\users\\franc\\anaconda3\\lib\\site-packages (from spotipy) (1.16.0)\n",
      "Requirement already satisfied: requests>=2.25.0 in c:\\users\\franc\\anaconda3\\lib\\site-packages (from spotipy) (2.28.1)\n",
      "Requirement already satisfied: redis>=3.5.3 in c:\\users\\franc\\anaconda3\\lib\\site-packages (from spotipy) (4.4.0)\n",
      "Requirement already satisfied: async-timeout>=4.0.2 in c:\\users\\franc\\anaconda3\\lib\\site-packages (from redis>=3.5.3->spotipy) (4.0.2)\n",
      "Requirement already satisfied: charset-normalizer<3,>=2 in c:\\users\\franc\\anaconda3\\lib\\site-packages (from requests>=2.25.0->spotipy) (2.0.4)\n",
      "Requirement already satisfied: certifi>=2017.4.17 in c:\\users\\franc\\anaconda3\\lib\\site-packages (from requests>=2.25.0->spotipy) (2022.9.14)\n",
      "Requirement already satisfied: idna<4,>=2.5 in c:\\users\\franc\\anaconda3\\lib\\site-packages (from requests>=2.25.0->spotipy) (3.3)\n",
      "Note: you may need to restart the kernel to use updated packages.\n"
     ]
    }
   ],
   "source": [
    "pip install spotipy"
   ]
  },
  {
   "cell_type": "markdown",
   "metadata": {},
   "source": [
    "Inseriamo dunque le nostre credenziali fornite nei punti precedenti (durante la fase di creazione della nostra nuova app)"
   ]
  },
  {
   "cell_type": "code",
   "execution_count": 2,
   "metadata": {},
   "outputs": [],
   "source": [
    "SPOTIPY_CLIENT_ID='b48898f561ab4533b7396439e6610ff4'\n",
    "SPOTIPY_CLIENT_SECRET='2c5bfc5f50b74f899e7ae755f14df67d'\n",
    "REDIRECT_URI='http://localhost:8080'"
   ]
  },
  {
   "cell_type": "markdown",
   "metadata": {},
   "source": [
    "Importiamo le librerie necessarie per interagire con spotipy"
   ]
  },
  {
   "cell_type": "code",
   "execution_count": 3,
   "metadata": {},
   "outputs": [],
   "source": [
    "import spotipy\n",
    "from spotipy.oauth2 import SpotifyOAuth"
   ]
  },
  {
   "cell_type": "markdown",
   "metadata": {},
   "source": [
    "Creiamo una nuova istanza - autenticata - così da poterla riutilizzare per richiamare i vari metodi della libreria"
   ]
  },
  {
   "cell_type": "code",
   "execution_count": 4,
   "metadata": {},
   "outputs": [],
   "source": [
    "scope = [\n",
    "    'user-top-read'\n",
    "]\n",
    "\n",
    "auth_manager = SpotifyOAuth(\n",
    "    client_id=SPOTIPY_CLIENT_ID,\n",
    "    client_secret=SPOTIPY_CLIENT_SECRET,\n",
    "    redirect_uri=REDIRECT_URI,\n",
    "    scope=scope\n",
    ")\n",
    "\n",
    "sp = spotipy.Spotify(auth_manager=auth_manager)"
   ]
  },
  {
   "cell_type": "markdown",
   "metadata": {},
   "source": [
    "È possibile verificare l'identità dell'utente con cui si è effettuato l'accesso attraverso il metodo *current_user()* restituendo in questo caso il nome dell'account"
   ]
  },
  {
   "cell_type": "code",
   "execution_count": 5,
   "metadata": {},
   "outputs": [
    {
     "name": "stdout",
     "output_type": "stream",
     "text": [
      "Wellcome, Francesco Petrosino\n"
     ]
    }
   ],
   "source": [
    "current_user = sp.current_user()\n",
    "\n",
    "if current_user :\n",
    "    print('Wellcome,', current_user['display_name'])"
   ]
  },
  {
   "cell_type": "markdown",
   "metadata": {},
   "source": [
    "Avendo così configurato tutto, è finalmente possibile arrivare all'obiettivo del tutorial."
   ]
  },
  {
   "cell_type": "markdown",
   "metadata": {},
   "source": [
    "## Ottenere le proprie 10 tracks più ascoltate e le informazioni più rilevanti"
   ]
  },
  {
   "cell_type": "markdown",
   "metadata": {},
   "source": [
    "Analizzare con pandas:\n",
    "[] lista delle tracce più ascoltate\n",
    "[] informazioni dell'user"
   ]
  },
  {
   "cell_type": "markdown",
   "metadata": {},
   "source": [
    "Questo piccolo progetto fornisce un esempio di uso delle API di Spotify, mostrando alcune delle funzionalità offerte. Lo scopo di questo script è, come illustrato precedentemente, mostrare un piccolo resoconto di un qualunque account utente sulla piattaforma e una lista contenente le tracks più ascoltate al momento e alcune informazioni rilevanti."
   ]
  },
  {
   "cell_type": "markdown",
   "metadata": {},
   "source": [
    "Prima di procedere però, importiamo la libreria **pandas** necessaria per la manipolazione dei dati.<br>\n",
    "> **Pandas** è una libreria di alto livello che mette a disposizione diversi strumenti e strutture dati per l'analisi dei dati. In particolare, Pandas è molto utile per caricare, manipolare e visualizzare i dati in maniera veloce e conveniente prima di passare all'analisi vera e propria."
   ]
  },
  {
   "cell_type": "code",
   "execution_count": 13,
   "metadata": {},
   "outputs": [],
   "source": [
    "import pandas"
   ]
  },
  {
   "cell_type": "markdown",
   "metadata": {},
   "source": [
    "Definendo un dataframe, potremmo ispezionare alcune delle informazioni rilevanti delle varie tracks..<br>\n",
    "> Un **DataFrame** è una tabella di dati in cui ogni riga rappresenta un elemento \"sotto esame\" della lista, e ogni colonna invece rappresenta una particolare informazione di quell'elemento."
   ]
  },
  {
   "cell_type": "markdown",
   "metadata": {},
   "source": [
    "Per esempio, l'utente che abbiamo scelto per il tutorial ha queste informazioni:"
   ]
  },
  {
   "cell_type": "code",
   "execution_count": 23,
   "metadata": {
    "scrolled": true
   },
   "outputs": [
    {
     "data": {
      "text/html": [
       "<div>\n",
       "<style scoped>\n",
       "    .dataframe tbody tr th:only-of-type {\n",
       "        vertical-align: middle;\n",
       "    }\n",
       "\n",
       "    .dataframe tbody tr th {\n",
       "        vertical-align: top;\n",
       "    }\n",
       "\n",
       "    .dataframe thead th {\n",
       "        text-align: right;\n",
       "    }\n",
       "</style>\n",
       "<table border=\"1\" class=\"dataframe\">\n",
       "  <thead>\n",
       "    <tr style=\"text-align: right;\">\n",
       "      <th></th>\n",
       "      <th>display_name</th>\n",
       "      <th>followers_num</th>\n",
       "      <th>profile_link</th>\n",
       "      <th>id</th>\n",
       "      <th>images</th>\n",
       "      <th>type</th>\n",
       "      <th>uri</th>\n",
       "    </tr>\n",
       "  </thead>\n",
       "  <tbody>\n",
       "    <tr>\n",
       "      <th>current_user</th>\n",
       "      <td>Francesco Petrosino</td>\n",
       "      <td>11</td>\n",
       "      <td>https://api.spotify.com/v1/users/21ktslj6lkgx6...</td>\n",
       "      <td>21ktslj6lkgx6wswmfwu5cwuq</td>\n",
       "      <td>{'height': None, 'url': 'https://platform-look...</td>\n",
       "      <td>user</td>\n",
       "      <td>spotify:user:21ktslj6lkgx6wswmfwu5cwuq</td>\n",
       "    </tr>\n",
       "  </tbody>\n",
       "</table>\n",
       "</div>"
      ],
      "text/plain": [
       "                     display_name  followers_num  \\\n",
       "current_user  Francesco Petrosino             11   \n",
       "\n",
       "                                                   profile_link  \\\n",
       "current_user  https://api.spotify.com/v1/users/21ktslj6lkgx6...   \n",
       "\n",
       "                                     id  \\\n",
       "current_user  21ktslj6lkgx6wswmfwu5cwuq   \n",
       "\n",
       "                                                         images  type  \\\n",
       "current_user  {'height': None, 'url': 'https://platform-look...  user   \n",
       "\n",
       "                                                 uri  \n",
       "current_user  spotify:user:21ktslj6lkgx6wswmfwu5cwuq  "
      ]
     },
     "execution_count": 23,
     "metadata": {},
     "output_type": "execute_result"
    }
   ],
   "source": [
    "user = {\n",
    "    'display_name': current_user['display_name'],\n",
    "    'followers_num': current_user['followers']['total'],\n",
    "    'profile_link': current_user['href'],\n",
    "    'id': current_user['id'],\n",
    "    'images': current_user['images'],\n",
    "    'type': current_user['type'],\n",
    "    'uri': current_user['uri']\n",
    "}\n",
    "\n",
    "user_df = pandas.DataFrame(user, index={'current_user'})\n",
    "\n",
    "user_df"
   ]
  },
  {
   "cell_type": "markdown",
   "metadata": {},
   "source": [
    "Segue il codice per ottenere le tracks ascoltate di frequente dall'utente corrente"
   ]
  },
  {
   "cell_type": "code",
   "execution_count": 50,
   "metadata": {
    "scrolled": true
   },
   "outputs": [
    {
     "name": "stdout",
     "output_type": "stream",
     "text": [
      "1 - Lemonade (feat. Gunna, Don Toliver & NAV)\n"
     ]
    }
   ],
   "source": [
    "tracks_take = 1\n",
    "raw_result = sp.current_user_top_tracks(time_range='medium_term', limit=tracks_take)\n",
    "tracks_result = enumerate(raw_result['items'])\n",
    "\n",
    "for i, item in tracks_result :\n",
    "    print(i+1, '-', item['name'])"
   ]
  },
  {
   "cell_type": "markdown",
   "metadata": {},
   "source": [
    "Costruiamo adesso un dataframe a partire dal risultato visto in precedenza"
   ]
  },
  {
   "cell_type": "code",
   "execution_count": 58,
   "metadata": {},
   "outputs": [
    {
     "ename": "SyntaxError",
     "evalue": "invalid syntax (2282826849.py, line 6)",
     "output_type": "error",
     "traceback": [
      "\u001b[1;36m  File \u001b[1;32m\"C:\\Users\\Franc\\AppData\\Local\\Temp\\ipykernel_3472\\2282826849.py\"\u001b[1;36m, line \u001b[1;32m6\u001b[0m\n\u001b[1;33m    'id': track['id'],\u001b[0m\n\u001b[1;37m        ^\u001b[0m\n\u001b[1;31mSyntaxError\u001b[0m\u001b[1;31m:\u001b[0m invalid syntax\n"
     ]
    }
   ],
   "source": [
    "tracks = []\n",
    "columns_df = ['Id', 'Name', 'Artist name', 'Artist uri', 'Album name', 'Album release date', 'Album total tracks', 'Album uri', 'Disc number', 'Duration (ms)', 'Explicit', 'Href', 'Popularity', 'Uri']\n",
    "\n",
    "for item in tracks_result :\n",
    "    tracks.append([\n",
    "        'id': track['id'],\n",
    "        'name': track['name'],\n",
    "        'artist_name': track['artists'][0]['name'],\n",
    "        'artist_uri': track['artists'][0]['uri'],\n",
    "        'album_name': track['album']['name'],\n",
    "        'album_release_date': track['album']['release_date'],\n",
    "        'album_total_tracks': track['album']['total_tracks'],\n",
    "        'album_uri': track['album']['uri'],\n",
    "        'disc_number': track['disc_number'],\n",
    "        'duration_ms': track['duration_ms'],\n",
    "        'explicit': track['explicit'],\n",
    "        'href': track['href'],\n",
    "        'popularity': track['popularity'],\n",
    "        'uri': track['uri']\n",
    "    ])\n",
    "\n",
    "print(tracks)\n",
    "    \n",
    "#tracks_df = pandas.DataFrame(tracks, columns = columns_df)\n",
    "\n",
    "#tracks_df"
   ]
  },
  {
   "cell_type": "code",
   "execution_count": 64,
   "metadata": {},
   "outputs": [
    {
     "name": "stdout",
     "output_type": "stream",
     "text": [
      "[]\n"
     ]
    }
   ],
   "source": [
    "tracks = []\n",
    "columns_df = ['Id', 'Name', 'Artist name', 'Artist uri', 'Album name', 'Album release date', 'Album total tracks', 'Album uri', 'Disc number', 'Duration (ms)', 'Explicit', 'Href', 'Popularity', 'Uri']\n",
    "\n",
    "for track in tracks_result :\n",
    "    tracks.append([\n",
    "        track['id'],\n",
    "        track['name'],\n",
    "        track['artists'][0]['name'],\n",
    "        track['artists'][0]['uri'],\n",
    "        track['album']['name'],\n",
    "        track['album']['release_date'],\n",
    "        track['album']['total_tracks'],\n",
    "        track['album']['uri'],\n",
    "        track['disc_number'],\n",
    "        track['duration_ms'],\n",
    "        track['explicit'],\n",
    "        track['href'],\n",
    "        track['popularity'],\n",
    "        track['uri']\n",
    "    ])\n",
    "\n",
    "print(tracks)\n",
    "    \n",
    "#tracks_df = pandas.DataFrame(tracks, columns = columns_df)\n",
    "\n",
    "#tracks_df"
   ]
  },
  {
   "cell_type": "code",
   "execution_count": 70,
   "metadata": {},
   "outputs": [
    {
     "name": "stdout",
     "output_type": "stream",
     "text": [
      "[]\n"
     ]
    },
    {
     "data": {
      "text/html": [
       "<div>\n",
       "<style scoped>\n",
       "    .dataframe tbody tr th:only-of-type {\n",
       "        vertical-align: middle;\n",
       "    }\n",
       "\n",
       "    .dataframe tbody tr th {\n",
       "        vertical-align: top;\n",
       "    }\n",
       "\n",
       "    .dataframe thead th {\n",
       "        text-align: right;\n",
       "    }\n",
       "</style>\n",
       "<table border=\"1\" class=\"dataframe\">\n",
       "  <thead>\n",
       "    <tr style=\"text-align: right;\">\n",
       "      <th></th>\n",
       "      <th>Id</th>\n",
       "      <th>Name</th>\n",
       "      <th>Artist name</th>\n",
       "      <th>Artist uri</th>\n",
       "      <th>Album name</th>\n",
       "      <th>Album release date</th>\n",
       "      <th>Album total tracks</th>\n",
       "      <th>Album uri</th>\n",
       "      <th>Disc number</th>\n",
       "      <th>Duration (ms)</th>\n",
       "      <th>Explicit</th>\n",
       "      <th>Href</th>\n",
       "      <th>Popularity</th>\n",
       "      <th>Uri</th>\n",
       "    </tr>\n",
       "  </thead>\n",
       "  <tbody>\n",
       "  </tbody>\n",
       "</table>\n",
       "</div>"
      ],
      "text/plain": [
       "Empty DataFrame\n",
       "Columns: [Id, Name, Artist name, Artist uri, Album name, Album release date, Album total tracks, Album uri, Disc number, Duration (ms), Explicit, Href, Popularity, Uri]\n",
       "Index: []"
      ]
     },
     "execution_count": 70,
     "metadata": {},
     "output_type": "execute_result"
    }
   ],
   "source": [
    "tracks = []\n",
    "columns_df = ['Id', 'Name', 'Artist name', 'Artist uri', 'Album name', 'Album release date', 'Album total tracks', 'Album uri', 'Disc number', 'Duration (ms)', 'Explicit', 'Href', 'Popularity', 'Uri']\n",
    "\n",
    "for track in tracks_result :\n",
    "    tracks.append([\n",
    "        track['id'],\n",
    "        track['name'],\n",
    "        track['artists'][0]['name'],\n",
    "        track['artists'][0]['uri'],\n",
    "        track['album']['name'],\n",
    "        track['album']['release_date'],\n",
    "        track['album']['total_tracks'],\n",
    "        track['album']['uri'],\n",
    "        track['disc_number'],\n",
    "        track['duration_ms'],\n",
    "        track['explicit'],\n",
    "        track['href'],\n",
    "        track['popularity'],\n",
    "        track['uri']\n",
    "    ])\n",
    "    \n",
    "for track in tracks_result :\n",
    "    id = track['id']\n",
    "    name = track['name']\n",
    "    tracks.append([id,\n",
    "                   name])\n",
    "\n",
    "print(tracks)\n",
    "    \n",
    "tracks_df = pandas.DataFrame(tracks, columns = columns_df)\n",
    "\n",
    "tracks_df"
   ]
  },
  {
   "cell_type": "markdown",
   "metadata": {},
   "source": [
    "## Conclusione\n",
    "\n",
    "Scrivere la conclusione"
   ]
  }
 ],
 "metadata": {
  "kernelspec": {
   "display_name": "Python 3 (ipykernel)",
   "language": "python",
   "name": "python3"
  },
  "language_info": {
   "codemirror_mode": {
    "name": "ipython",
    "version": 3
   },
   "file_extension": ".py",
   "mimetype": "text/x-python",
   "name": "python",
   "nbconvert_exporter": "python",
   "pygments_lexer": "ipython3",
   "version": "3.9.13"
  }
 },
 "nbformat": 4,
 "nbformat_minor": 4
}
