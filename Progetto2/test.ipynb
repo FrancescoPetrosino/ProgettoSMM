{
 "cells": [
  {
   "cell_type": "code",
   "execution_count": 1,
   "metadata": {},
   "outputs": [],
   "source": [
    "# Imports libraries\n",
    "\n",
    "import time\n",
    "import pandas\n",
    "import json\n",
    "import spotipy\n",
    "from group import Group\n",
    "from spotipy.oauth2 import SpotifyOAuth\n",
    "from user import User\n",
    "\n",
    "import main"
   ]
  },
  {
   "cell_type": "code",
   "execution_count": 2,
   "metadata": {},
   "outputs": [],
   "source": [
    "# Sets variables\n",
    "\n",
    "# client_id = \"YOUR_CLIENT_ID\"\n",
    "# client_secret = \"YOUR_CLIENT_SECRET\"\n",
    "# redirect_uri = \"YOUR_REDIRECT_URI\"\n",
    "client_id = \"b48898f561ab4533b7396439e6610ff4\"\n",
    "client_secret = \"bbf061893e8f4ff8924eed41c39c6a90\"\n",
    "redirect_uri = \"http://localhost:8080\"\n",
    "\n",
    "scope = [\n",
    "\t\"user-library-read\",\n",
    "\t\"user-top-read\",\n",
    "\t\"user-follow-read\",\n",
    "\t\"user-read-private\",\n",
    "\t\"user-read-recently-played\",\n",
    "\t\"user-read-playback-state\",\n",
    "\t\"user-modify-playback-state\",\n",
    "\t\"user-read-playback-position\",\n",
    "\t\"streaming\",\n",
    "\t\"app-remote-control\",\n",
    "\t\"playlist-read-private\",\n",
    "\t\"playlist-modify-private\",\n",
    "\t\"playlist-modify-public\",\n",
    "\t\"playlist-read-collaborative\"\n",
    "]\n",
    "\n",
    "# Authenticates\n",
    "\n",
    "auth_manager = SpotifyOAuth(\n",
    "\tclient_id=client_id,\n",
    "\tclient_secret=client_secret,\n",
    "\tredirect_uri=redirect_uri,\n",
    "\tscope=scope\n",
    ")\n",
    "\n",
    "sp = spotipy.Spotify(auth_manager=auth_manager)"
   ]
  },
  {
   "cell_type": "code",
   "execution_count": 3,
   "metadata": {},
   "outputs": [
    {
     "name": "stdout",
     "output_type": "stream",
     "text": [
      "Creo il gruppo...\n",
      "L'username di Francesco Petrosino è 21ktslj6lkgx6wswmfwu5cwuq\n",
      "L'username di Ale è rcin690qmgjd32d088agw6xyr\n"
     ]
    }
   ],
   "source": [
    "# Defines a list of users\n",
    "\n",
    "# Static list\n",
    "\n",
    "group = Group()\n",
    "\n",
    "id_list = [\n",
    "\t'21ktslj6lkgx6wswmfwu5cwuq',\n",
    "\t'rcin690qmgjd32d088agw6xyr',\n",
    "\t# '1171706601',\n",
    "\t# '6ua7zipvurza24psy4h2rvumy',\n",
    "\t# '21vfi35alpob2afo2vtoybthi'\n",
    "]\n",
    "\n",
    "print(\"Creo il gruppo...\")\n",
    "\n",
    "len = len(id_list)\n",
    "\n",
    "for i, id in enumerate(id_list):\n",
    "\tresult = sp.user(id)\n",
    "\n",
    "\tuser = User(result)\n",
    "\tgroup.append(user)\n",
    "\t\n",
    "\tuser.print()\n",
    "\n",
    "\tif i+1 < len: \n",
    "\t\ttime.sleep(5)"
   ]
  },
  {
   "cell_type": "code",
   "execution_count": 4,
   "metadata": {},
   "outputs": [
    {
     "name": "stdout",
     "output_type": "stream",
     "text": [
      "Prendo le playlists dal server...\n",
      "Francesco Petrosino\n",
      "Ale\n"
     ]
    }
   ],
   "source": [
    "print(\"Prendo le playlists dal server...\")\n",
    "\n",
    "len = group.count()\n",
    "\n",
    "for i in range(len):\n",
    "\tuser = group.get_from_list(i)\n",
    "\n",
    "\tprint(user.display_name)\n",
    "\n",
    "\tresults = sp.user_playlists(user=user.user_id, limit=10)\n",
    "\tuser.set_following_playlists(results['items'])\n",
    "\n",
    "\tif i+1 < len: \n",
    "\t\ttime.sleep(5)"
   ]
  },
  {
   "cell_type": "code",
   "execution_count": 90,
   "metadata": {},
   "outputs": [
    {
     "name": "stdout",
     "output_type": "stream",
     "text": [
      "Creo un dataframe con le playlists...\n",
      "                        id                                               name  \\\n",
      "0   37i9dQZF1EJGrVfH5C1CPR                                    Ale + Francesco   \n",
      "1   37i9dQZF1DXaXB8fQg7xif                                        Dance Party   \n",
      "2   1axIU0KXgXndDVsOO2Mzfy                                                Car   \n",
      "3   4CiKz5cbyJUSj6bIAHZdgl                                             Guitar   \n",
      "4   136beH7rbmEUpqVr3plQpz                                               2021   \n",
      "5   6xGLprv9fmlMgeAMpW0x51  Dance Fruits Music 🍉 dance music to workout, g...   \n",
      "6   48xokaaQeLe8TSiqMZBlkU                                             Puglia   \n",
      "7   4R5YfdibIeQXPOtuKTE9E1                                       - MUSIC (R)    \n",
      "8   4NnDxZXf0xHg2nUEiXcqhE                                       2020 Look up   \n",
      "9   7zgEXqu8hWFGZT69B6Y184                                              Relax   \n",
      "10  251IXQ6UPt8hQE1xDg73my                                          el latino   \n",
      "11  7upid1sXVlPfugkfEVmYHN                                            Artemis   \n",
      "12  7mLgSyjR3jh5AMU3uRrsyR                                           Macchina   \n",
      "13  5eJO7EcoDOeecRiwp8Pf3w                                         Indie pier   \n",
      "14  5xf3rgZAwu8lCaCuwJugek                                        Allenamento   \n",
      "15  3LuKO6vbZDcFSNihsLfeui                                               Alan   \n",
      "\n",
      "                                          description  \\\n",
      "0   A blend of music for Francesco and Ale. Update...   \n",
      "1   <a href=\"spotify:genre:edm_dance\">Move</a> you...   \n",
      "2                                                       \n",
      "3                                                       \n",
      "4                                                       \n",
      "5   Weekly selection of the best deep house &amp; ...   \n",
      "6                                                       \n",
      "7                                                       \n",
      "8                                                       \n",
      "9                                                       \n",
      "10                                                      \n",
      "11                                                      \n",
      "12                                                      \n",
      "13                                                      \n",
      "14                                                      \n",
      "15                                                      \n",
      "\n",
      "                                        uri public total_tracks  \n",
      "0   spotify:playlist:37i9dQZF1EJGrVfH5C1CPR  False           50  \n",
      "1   spotify:playlist:37i9dQZF1DXaXB8fQg7xif  False          150  \n",
      "2   spotify:playlist:1axIU0KXgXndDVsOO2Mzfy   True           28  \n",
      "3   spotify:playlist:4CiKz5cbyJUSj6bIAHZdgl   True           34  \n",
      "4   spotify:playlist:136beH7rbmEUpqVr3plQpz   True           14  \n",
      "5   spotify:playlist:6xGLprv9fmlMgeAMpW0x51  False          105  \n",
      "6   spotify:playlist:48xokaaQeLe8TSiqMZBlkU  False            9  \n",
      "7   spotify:playlist:4R5YfdibIeQXPOtuKTE9E1   True           48  \n",
      "8   spotify:playlist:4NnDxZXf0xHg2nUEiXcqhE   True           18  \n",
      "9   spotify:playlist:7zgEXqu8hWFGZT69B6Y184   True            2  \n",
      "10  spotify:playlist:251IXQ6UPt8hQE1xDg73my   True            7  \n",
      "11  spotify:playlist:7upid1sXVlPfugkfEVmYHN   True           13  \n",
      "12  spotify:playlist:7mLgSyjR3jh5AMU3uRrsyR   True           30  \n",
      "13  spotify:playlist:5eJO7EcoDOeecRiwp8Pf3w   True           25  \n",
      "14  spotify:playlist:5xf3rgZAwu8lCaCuwJugek   True           25  \n",
      "15  spotify:playlist:3LuKO6vbZDcFSNihsLfeui   True            9  \n"
     ]
    },
    {
     "name": "stderr",
     "output_type": "stream",
     "text": [
      "C:\\Users\\franc\\AppData\\Local\\Temp\\ipykernel_19520\\2882713838.py:19: FutureWarning: In a future version, object-dtype columns with all-bool values will not be included in reductions with bool_only=True. Explicitly cast to bool dtype instead.\n",
      "  finalDf=pandas.concat([finalDf,df_u], ignore_index=True)\n"
     ]
    }
   ],
   "source": [
    "print(\"Creo un dataframe con le playlists...\")\n",
    "\n",
    "dataframe = pandas.DataFrame()\n",
    "df_columns = ['id', 'name', 'description', 'uri', 'public', 'total_tracks']\n",
    "len = group.count()\n",
    "finalDf=pandas.DataFrame(columns=df_columns)\n",
    "\n",
    "for i in range(len):\n",
    "\tuser = group.get_from_list(i)\n",
    "\n",
    "\tjson_p = json.dumps(user.get_following_playlists())\n",
    "\tdf_u_tmp = pandas.read_json(json_p)\n",
    "\tl = []\n",
    "\tfor index,pl in df_u_tmp.iterrows():\n",
    "\t\tl.append(pl[11]['total'])\n",
    "\tdf_u_tmp[\"total_tracks\"]=l\n",
    "\tdf_u=df_u_tmp[df_columns]\n",
    "\n",
    "\tfinalDf=pandas.concat([finalDf,df_u], ignore_index=True)\n",
    "print(finalDf)\n",
    "\n",
    "\n",
    "\t# df_u['tracks'].head(1).get(0)['total']\n",
    "\t# df_n = pandas.json_normalize(\n",
    "\t# \tdf_u,\n",
    "\t# \trecord_path=['tracks'],\n",
    "\t# \tmeta=df_columns\n",
    "\t# )\n",
    "\t# serie = pandas.Series(user.get_following_playlists(), name=\"S_{:s}\".format(user.user_id))\n",
    "\n",
    "\t# df_u = pandas.DataFrame(serie.get(1), columns=df_columns)\n",
    "\t# print(df_n)\n",
    "\n",
    "\t# df_u.to_csv(\"playlists_{:s}.csv\".format(user.user_id), index=False)\n",
    "\n",
    "\t# dataframe = pandas.merge(dataframe, serie, left_index=True, right_index=True, how='outer')\n",
    "\n",
    "# dataframe.to_csv('dist/playlists_all.csv', index=False)\n"
   ]
  },
  {
   "cell_type": "code",
   "execution_count": null,
   "metadata": {},
   "outputs": [],
   "source": [
    "for index,playlist in finalDf.iterrows():\n",
    "    print(\"============================================\")\n",
    "    print(playlist)\n",
    "    print(\"============================================\")\n"
   ]
  }
 ],
 "metadata": {
  "kernelspec": {
   "display_name": "Python 3",
   "language": "python",
   "name": "python3"
  },
  "language_info": {
   "codemirror_mode": {
    "name": "ipython",
    "version": 3
   },
   "file_extension": ".py",
   "mimetype": "text/x-python",
   "name": "python",
   "nbconvert_exporter": "python",
   "pygments_lexer": "ipython3",
   "version": "3.11.1"
  },
  "orig_nbformat": 4,
  "vscode": {
   "interpreter": {
    "hash": "f5b1cb6dc680b3d6bf29b5af02061c0a15fd523b21038e9be2963a520c148ee2"
   }
  }
 },
 "nbformat": 4,
 "nbformat_minor": 2
}
