{
 "cells": [
  {
   "attachments": {},
   "cell_type": "markdown",
   "metadata": {},
   "source": [
    "# Progetto - Spotify API\n",
    "\n",
    "### Progetto di Francesco Petrosino X81000533\n"
   ]
  },
  {
   "attachments": {},
   "cell_type": "markdown",
   "metadata": {},
   "source": [
    "## Introduzione\n",
    "\n",
    "Questo programma, grazie alle informazioni che è possibile ricavare dalle API di Spotify, permette di creare\n",
    "una playlist con album e canzoni di autori preferiti dagli utenti che la richiedono, arricchendola, tramite\n",
    "opportuni algoritmi, anche con alcune delle loro canzoni più in voga del momento.\n",
    "<br><br>\n",
    "Prima di iniziare, è opportuno precisare che tutte le informazioni, dati e quant’altro ricavato e/o elaborato dal\n",
    "programma stesso, NON legge in alcun modo tutti quei dati e informazioni che Spotify ritiene private per\n",
    "l’utente (tranne quelle di chi fornisce la coppia di chiavi d’accesso per le API)"
   ]
  },
  {
   "attachments": {},
   "cell_type": "markdown",
   "metadata": {},
   "source": [
    "## Come funziona\n",
    "\n",
    "Tramite la sottoscrizione all’account developer con Spotify e all’utilizzo di librerie in Python è possibile\n",
    "realizzare moltissimi tool.\n",
    "<br><br>\n",
    "Questo progetto richiede per iniziare, una lista di utenti, iscritti semplicemente alla piattaforma e che abbiano,\n",
    "non necessariamente, creato in precedenza delle loro playlist pubbliche.<br>\n",
    "Dopo aver definito il gruppo di utenti, il tool procederà alla raccolta dei dati, memorizzando informazioni\n",
    "come: nome utente, nomi delle playlist, le relative canzoni inserite, e molto altro.\n",
    "Successivamente, durante la fase dell’analisi dei dati, grazie al supporto di alcune librerie, come pandas e\n",
    "numpy, e all’implementazione di un algoritmo di uno dei metodi di sistemi di raccomandazione dei dati,\n",
    "verranno processate tutte le informazioni raccolte nel precedente step.<br>\n",
    "Infine, verrà creata una playlist con una parte dei dati elaborati dall’algoritmo, e per rendere più creativa e\n",
    "unica la playlist, tramite le informazioni in possesso di generi e autori, verrà effettuata una ricerca sulla\n",
    "piattaforma stessa di alcune delle canzoni più in voga del momento, per inserirle dunque sulla playlist."
   ]
  },
  {
   "attachments": {},
   "cell_type": "markdown",
   "metadata": {},
   "source": [
    "## Raccolta dei dati"
   ]
  },
  {
   "attachments": {},
   "cell_type": "markdown",
   "metadata": {},
   "source": [
    "### Setup\n",
    "\n",
    "Esegui questo comando nel tuo terminale: `py -m pip install --upgrade -r .\\requirements.txt`"
   ]
  },
  {
   "cell_type": "code",
   "execution_count": 1,
   "metadata": {},
   "outputs": [],
   "source": [
    "# Import delle librerie\n",
    "\n",
    "import time\n",
    "import pandas\n",
    "import numpy\n",
    "import sklearn\n",
    "import json\n",
    "import spotipy\n",
    "from operator import length_hint\n",
    "from datetime import datetime\n",
    "\n",
    "from spotipy.oauth2 import SpotifyOAuth\n",
    "from user import User\n",
    "from group import Group\n",
    "\n",
    "import main\n"
   ]
  },
  {
   "cell_type": "code",
   "execution_count": 2,
   "metadata": {},
   "outputs": [],
   "source": [
    "# Variabili globali\n",
    "\n",
    "# client_id = \"YOUR_CLIENT_ID\"\n",
    "# client_secret = \"YOUR_CLIENT_SECRET\"\n",
    "# redirect_uri = \"YOUR_REDIRECT_URI\"\n",
    "client_id = \"b48898f561ab4533b7396439e6610ff4\"\n",
    "client_secret = \"bbf061893e8f4ff8924eed41c39c6a90\"\n",
    "redirect_uri = \"http://localhost:8080\"\n",
    "\n",
    "# Il token servirà per..\n",
    "scope = [\n",
    "    \"user-library-read\",\n",
    "    \"user-top-read\",\n",
    "    \"user-follow-read\",\n",
    "    \"user-read-private\",\n",
    "    \"user-read-recently-played\",\n",
    "    \"user-read-playback-state\",\n",
    "    \"user-modify-playback-state\",\n",
    "    \"user-read-playback-position\",\n",
    "    \"streaming\",\n",
    "    \"app-remote-control\",\n",
    "    \"playlist-read-private\",\n",
    "    \"playlist-modify-private\",\n",
    "    \"playlist-modify-public\",\n",
    "    \"playlist-read-collaborative\"\n",
    "]\n",
    "\n",
    "# Autenticazione\n",
    "\n",
    "auth_manager = SpotifyOAuth(\n",
    "    client_id=client_id,\n",
    "    client_secret=client_secret,\n",
    "    redirect_uri=redirect_uri,\n",
    "    scope=scope\n",
    ")\n",
    "\n",
    "sp = spotipy.Spotify(auth_manager=auth_manager)\n"
   ]
  },
  {
   "attachments": {},
   "cell_type": "markdown",
   "metadata": {},
   "source": [
    "Una volta ottenuto il token per poter richiamare le API di Spotify, sarà possibile iniziare la spiegazione e la raccolta dei dati, per il conseguimento del progetto."
   ]
  },
  {
   "attachments": {},
   "cell_type": "markdown",
   "metadata": {},
   "source": [
    "### Creazione del gruppo di utenti\n",
    "\n",
    "Nello step successivo, viene illustrato come verranno raccolte le informazioni, relative agli utenti e le relative playlist.<br>\n",
    "Sono state definite due classi di comodo che ci consentiranno di semplificare la lettura e l'analisi dei dati. Queste classi sono: <b>User</b> e <b>Group</b>"
   ]
  },
  {
   "attachments": {},
   "cell_type": "markdown",
   "metadata": {},
   "source": [
    "#### User class\n",
    "\n",
    "![User](img/User.png)"
   ]
  },
  {
   "attachments": {},
   "cell_type": "markdown",
   "metadata": {},
   "source": [
    "#### Group class\n",
    "\n",
    "![Group1](img/Group1.png)\n",
    "![Group2](img/Group2.png)\n",
    "![Group3](img/Group3.png)"
   ]
  },
  {
   "cell_type": "code",
   "execution_count": 3,
   "metadata": {},
   "outputs": [
    {
     "name": "stdout",
     "output_type": "stream",
     "text": [
      "Creo il gruppo di utenti...\n",
      "Il gruppo è composto da: \n",
      "Francesco Petrosino\n",
      "Ale\n",
      "Philip Giovanni Emmer\n",
      "Renato\n",
      "Elio Pampolini\n",
      "Scalòppina\n",
      "Aldo Fiorito\n"
     ]
    }
   ],
   "source": [
    "print(\"Creo il gruppo di utenti...\")\n",
    "\n",
    "# Istanza del gruppo di utenti\n",
    "group = Group()\n",
    "\n",
    "# Lista di username dei vari utenti\n",
    "id_list = [\n",
    "    '21ktslj6lkgx6wswmfwu5cwuq',\n",
    "    'rcin690qmgjd32d088agw6xyr',\n",
    "    '1171706601',\n",
    "    '6ua7zipvurza24psy4h2rvumy',\n",
    "    '21vfi35alpob2afo2vtoybthi',\n",
    "    '392q67hc38jnsgjg2hqrjyuhc',\n",
    "    '11135404841'\n",
    "]\n",
    "\n",
    "len = len(id_list)\n",
    "\n",
    "# Per ogni username in lista, prendo le loro informazioni\n",
    "# e le inserisco nel gruppo\n",
    "for i, id in enumerate(id_list):\n",
    "    # Cerco su Spotify le informazioni dell'utente\n",
    "    result = sp.user(id)\n",
    "\n",
    "    # Aggiungo l'utente al gruppo\n",
    "    user = User(result)\n",
    "    group.append(user)\n",
    "\n",
    "    if i+1 < len:\n",
    "        time.sleep(3)\n",
    "\n",
    "group.print()\n"
   ]
  },
  {
   "attachments": {},
   "cell_type": "markdown",
   "metadata": {},
   "source": [
    "### Recupero le playlist e le relative tracks\n",
    "\n",
    "Di seguito andremo a collezionare tutte le playlist e le relative tracks, tenendo traccia solamente delle informazioni più importanti, che ci consentiranno di analizzare al meglio le informazioni nello step successivo tramite un algoritmo basato su uno dei sistemi di raccomandazione"
   ]
  },
  {
   "cell_type": "code",
   "execution_count": 4,
   "metadata": {},
   "outputs": [
    {
     "name": "stdout",
     "output_type": "stream",
     "text": [
      "Recupero le playlists dal server...\n",
      "Francesco Petrosino\n",
      "Ale\n",
      "Philip Giovanni Emmer\n",
      "Renato\n",
      "Elio Pampolini\n",
      "Scalòppina\n",
      "Aldo Fiorito\n"
     ]
    }
   ],
   "source": [
    "print(\"Recupero le playlists dal server...\")\n",
    "\n",
    "len = group.count()\n",
    "\n",
    "# Per ogni utente del gruppo\n",
    "# colleziono le sue playlists pubbliche\n",
    "for i in range(len):\n",
    "    # Prendo l'utente corrente\n",
    "    user = group.get_from_list(i)\n",
    "\n",
    "    print(user.display_name)\n",
    "\n",
    "    # Cerco la playlist dell'utente\n",
    "    results = sp.user_playlists(user=user.user_id, limit=10)\n",
    "\n",
    "    # Colleziono la playlist dell'utente\n",
    "    user.set_following_playlists(results['items'])\n",
    "\n",
    "    if i+1 < len:\n",
    "        time.sleep(5)\n"
   ]
  },
  {
   "cell_type": "code",
   "execution_count": 5,
   "metadata": {},
   "outputs": [
    {
     "name": "stdout",
     "output_type": "stream",
     "text": [
      "Creo un dataframe con le playlists...\n"
     ]
    },
    {
     "name": "stderr",
     "output_type": "stream",
     "text": [
      "s:\\Coding\\ProgettoSMM\\Progetto2\\group.py:45: FutureWarning: In a future version, object-dtype columns with all-bool values will not be included in reductions with bool_only=True. Explicitly cast to bool dtype instead.\n",
      "  self.playlist_dataframe = pandas.concat([self.playlist_dataframe, dataframe], ignore_index=True)\n",
      "s:\\Coding\\ProgettoSMM\\Progetto2\\group.py:45: FutureWarning: In a future version, object-dtype columns with all-bool values will not be included in reductions with bool_only=True. Explicitly cast to bool dtype instead.\n",
      "  self.playlist_dataframe = pandas.concat([self.playlist_dataframe, dataframe], ignore_index=True)\n",
      "s:\\Coding\\ProgettoSMM\\Progetto2\\group.py:45: FutureWarning: In a future version, object-dtype columns with all-bool values will not be included in reductions with bool_only=True. Explicitly cast to bool dtype instead.\n",
      "  self.playlist_dataframe = pandas.concat([self.playlist_dataframe, dataframe], ignore_index=True)\n",
      "s:\\Coding\\ProgettoSMM\\Progetto2\\group.py:45: FutureWarning: In a future version, object-dtype columns with all-bool values will not be included in reductions with bool_only=True. Explicitly cast to bool dtype instead.\n",
      "  self.playlist_dataframe = pandas.concat([self.playlist_dataframe, dataframe], ignore_index=True)\n"
     ]
    }
   ],
   "source": [
    "print(\"Creo un dataframe con le playlists...\")\n",
    "\n",
    "len = group.count()\n",
    "\n",
    "for i in range(len):\n",
    "    # Prendo l'utente corrente\n",
    "    user = group.get_from_list(i)\n",
    "\n",
    "    # Creo una lista temporanea delle playlist dell'utente corrente\n",
    "    playlist_list = list(map(lambda playlist: {\n",
    "        'user_id': user.user_id,\n",
    "        'user_display_name': user.display_name,\n",
    "        'playlist_id': playlist.get('id'),\n",
    "        'playlist_name': playlist.get('name'),\n",
    "        'playlist_description': playlist.get('description'),\n",
    "        'playlist_uri': playlist.get('uri'),\n",
    "        'playlist_public': playlist.get('public'),\n",
    "        'playlist_total_tracks': playlist.get('tracks', {}).get('total')\n",
    "    }, user.get_following_playlists()))\n",
    "\n",
    "    # Creo un dataframe con la playlist dell'utente corrente\n",
    "    playlist_user_dataframe = pandas.DataFrame(playlist_list)\n",
    "\n",
    "    # Concateno con il dataframe finale\n",
    "    group.append_to_playlist_dataframe(playlist_user_dataframe)\n"
   ]
  },
  {
   "cell_type": "code",
   "execution_count": 6,
   "metadata": {},
   "outputs": [
    {
     "name": "stdout",
     "output_type": "stream",
     "text": [
      "Per ogni playlist cerco le relative tracks\n",
      "Recommend playlist - 2023-02-12\n",
      "Car\n"
     ]
    },
    {
     "name": "stderr",
     "output_type": "stream",
     "text": [
      "s:\\Coding\\ProgettoSMM\\Progetto2\\group.py:53: FutureWarning: In a future version, object-dtype columns with all-bool values will not be included in reductions with bool_only=True. Explicitly cast to bool dtype instead.\n",
      "  self.playlist_tracks_dataframe = pandas.concat([self.playlist_tracks_dataframe, dataframe], ignore_index=True)\n"
     ]
    },
    {
     "name": "stdout",
     "output_type": "stream",
     "text": [
      "Guitar\n"
     ]
    },
    {
     "name": "stderr",
     "output_type": "stream",
     "text": [
      "s:\\Coding\\ProgettoSMM\\Progetto2\\group.py:53: FutureWarning: In a future version, object-dtype columns with all-bool values will not be included in reductions with bool_only=True. Explicitly cast to bool dtype instead.\n",
      "  self.playlist_tracks_dataframe = pandas.concat([self.playlist_tracks_dataframe, dataframe], ignore_index=True)\n"
     ]
    },
    {
     "name": "stdout",
     "output_type": "stream",
     "text": [
      "2021\n"
     ]
    },
    {
     "name": "stderr",
     "output_type": "stream",
     "text": [
      "s:\\Coding\\ProgettoSMM\\Progetto2\\group.py:53: FutureWarning: In a future version, object-dtype columns with all-bool values will not be included in reductions with bool_only=True. Explicitly cast to bool dtype instead.\n",
      "  self.playlist_tracks_dataframe = pandas.concat([self.playlist_tracks_dataframe, dataframe], ignore_index=True)\n"
     ]
    },
    {
     "name": "stdout",
     "output_type": "stream",
     "text": [
      "- MUSIC (R) \n"
     ]
    },
    {
     "name": "stderr",
     "output_type": "stream",
     "text": [
      "s:\\Coding\\ProgettoSMM\\Progetto2\\group.py:53: FutureWarning: In a future version, object-dtype columns with all-bool values will not be included in reductions with bool_only=True. Explicitly cast to bool dtype instead.\n",
      "  self.playlist_tracks_dataframe = pandas.concat([self.playlist_tracks_dataframe, dataframe], ignore_index=True)\n"
     ]
    },
    {
     "name": "stdout",
     "output_type": "stream",
     "text": [
      "2020 Look up\n"
     ]
    },
    {
     "name": "stderr",
     "output_type": "stream",
     "text": [
      "s:\\Coding\\ProgettoSMM\\Progetto2\\group.py:53: FutureWarning: In a future version, object-dtype columns with all-bool values will not be included in reductions with bool_only=True. Explicitly cast to bool dtype instead.\n",
      "  self.playlist_tracks_dataframe = pandas.concat([self.playlist_tracks_dataframe, dataframe], ignore_index=True)\n"
     ]
    },
    {
     "name": "stdout",
     "output_type": "stream",
     "text": [
      "La mia playlist n. 7\n",
      "el latino\n"
     ]
    },
    {
     "name": "stderr",
     "output_type": "stream",
     "text": [
      "s:\\Coding\\ProgettoSMM\\Progetto2\\group.py:53: FutureWarning: In a future version, object-dtype columns with all-bool values will not be included in reductions with bool_only=True. Explicitly cast to bool dtype instead.\n",
      "  self.playlist_tracks_dataframe = pandas.concat([self.playlist_tracks_dataframe, dataframe], ignore_index=True)\n"
     ]
    },
    {
     "name": "stdout",
     "output_type": "stream",
     "text": [
      "Artemis\n"
     ]
    },
    {
     "name": "stderr",
     "output_type": "stream",
     "text": [
      "s:\\Coding\\ProgettoSMM\\Progetto2\\group.py:53: FutureWarning: In a future version, object-dtype columns with all-bool values will not be included in reductions with bool_only=True. Explicitly cast to bool dtype instead.\n",
      "  self.playlist_tracks_dataframe = pandas.concat([self.playlist_tracks_dataframe, dataframe], ignore_index=True)\n"
     ]
    },
    {
     "name": "stdout",
     "output_type": "stream",
     "text": [
      "Macchina\n"
     ]
    },
    {
     "name": "stderr",
     "output_type": "stream",
     "text": [
      "s:\\Coding\\ProgettoSMM\\Progetto2\\group.py:53: FutureWarning: In a future version, object-dtype columns with all-bool values will not be included in reductions with bool_only=True. Explicitly cast to bool dtype instead.\n",
      "  self.playlist_tracks_dataframe = pandas.concat([self.playlist_tracks_dataframe, dataframe], ignore_index=True)\n",
      "s:\\Coding\\ProgettoSMM\\Progetto2\\group.py:53: FutureWarning: In a future version, object-dtype columns with all-bool values will not be included in reductions with bool_only=True. Explicitly cast to bool dtype instead.\n",
      "  self.playlist_tracks_dataframe = pandas.concat([self.playlist_tracks_dataframe, dataframe], ignore_index=True)\n"
     ]
    },
    {
     "name": "stdout",
     "output_type": "stream",
     "text": [
      "Indie pier\n",
      "Allenamento\n"
     ]
    },
    {
     "name": "stderr",
     "output_type": "stream",
     "text": [
      "s:\\Coding\\ProgettoSMM\\Progetto2\\group.py:53: FutureWarning: In a future version, object-dtype columns with all-bool values will not be included in reductions with bool_only=True. Explicitly cast to bool dtype instead.\n",
      "  self.playlist_tracks_dataframe = pandas.concat([self.playlist_tracks_dataframe, dataframe], ignore_index=True)\n",
      "s:\\Coding\\ProgettoSMM\\Progetto2\\group.py:53: FutureWarning: In a future version, object-dtype columns with all-bool values will not be included in reductions with bool_only=True. Explicitly cast to bool dtype instead.\n",
      "  self.playlist_tracks_dataframe = pandas.concat([self.playlist_tracks_dataframe, dataframe], ignore_index=True)\n"
     ]
    },
    {
     "name": "stdout",
     "output_type": "stream",
     "text": [
      "Alan\n",
      "thnx workout\n"
     ]
    },
    {
     "name": "stderr",
     "output_type": "stream",
     "text": [
      "s:\\Coding\\ProgettoSMM\\Progetto2\\group.py:53: FutureWarning: In a future version, object-dtype columns with all-bool values will not be included in reductions with bool_only=True. Explicitly cast to bool dtype instead.\n",
      "  self.playlist_tracks_dataframe = pandas.concat([self.playlist_tracks_dataframe, dataframe], ignore_index=True)\n"
     ]
    },
    {
     "name": "stdout",
     "output_type": "stream",
     "text": [
      "Travel\n"
     ]
    },
    {
     "name": "stderr",
     "output_type": "stream",
     "text": [
      "s:\\Coding\\ProgettoSMM\\Progetto2\\group.py:53: FutureWarning: In a future version, object-dtype columns with all-bool values will not be included in reductions with bool_only=True. Explicitly cast to bool dtype instead.\n",
      "  self.playlist_tracks_dataframe = pandas.concat([self.playlist_tracks_dataframe, dataframe], ignore_index=True)\n"
     ]
    },
    {
     "name": "stdout",
     "output_type": "stream",
     "text": [
      "Pump\n"
     ]
    },
    {
     "name": "stderr",
     "output_type": "stream",
     "text": [
      "s:\\Coding\\ProgettoSMM\\Progetto2\\group.py:53: FutureWarning: In a future version, object-dtype columns with all-bool values will not be included in reductions with bool_only=True. Explicitly cast to bool dtype instead.\n",
      "  self.playlist_tracks_dataframe = pandas.concat([self.playlist_tracks_dataframe, dataframe], ignore_index=True)\n"
     ]
    },
    {
     "name": "stdout",
     "output_type": "stream",
     "text": [
      "In(die)\n"
     ]
    },
    {
     "name": "stderr",
     "output_type": "stream",
     "text": [
      "s:\\Coding\\ProgettoSMM\\Progetto2\\group.py:53: FutureWarning: In a future version, object-dtype columns with all-bool values will not be included in reductions with bool_only=True. Explicitly cast to bool dtype instead.\n",
      "  self.playlist_tracks_dataframe = pandas.concat([self.playlist_tracks_dataframe, dataframe], ignore_index=True)\n"
     ]
    },
    {
     "name": "stdout",
     "output_type": "stream",
     "text": [
      "Mix\n"
     ]
    },
    {
     "name": "stderr",
     "output_type": "stream",
     "text": [
      "s:\\Coding\\ProgettoSMM\\Progetto2\\group.py:53: FutureWarning: In a future version, object-dtype columns with all-bool values will not be included in reductions with bool_only=True. Explicitly cast to bool dtype instead.\n",
      "  self.playlist_tracks_dataframe = pandas.concat([self.playlist_tracks_dataframe, dataframe], ignore_index=True)\n"
     ]
    },
    {
     "name": "stdout",
     "output_type": "stream",
     "text": [
      "Fun time\n"
     ]
    },
    {
     "name": "stderr",
     "output_type": "stream",
     "text": [
      "s:\\Coding\\ProgettoSMM\\Progetto2\\group.py:53: FutureWarning: In a future version, object-dtype columns with all-bool values will not be included in reductions with bool_only=True. Explicitly cast to bool dtype instead.\n",
      "  self.playlist_tracks_dataframe = pandas.concat([self.playlist_tracks_dataframe, dataframe], ignore_index=True)\n",
      "s:\\Coding\\ProgettoSMM\\Progetto2\\group.py:53: FutureWarning: In a future version, object-dtype columns with all-bool values will not be included in reductions with bool_only=True. Explicitly cast to bool dtype instead.\n",
      "  self.playlist_tracks_dataframe = pandas.concat([self.playlist_tracks_dataframe, dataframe], ignore_index=True)\n"
     ]
    },
    {
     "name": "stdout",
     "output_type": "stream",
     "text": [
      "🎹🎹🎹🎹\n",
      "D Mood\n"
     ]
    },
    {
     "name": "stderr",
     "output_type": "stream",
     "text": [
      "s:\\Coding\\ProgettoSMM\\Progetto2\\group.py:53: FutureWarning: In a future version, object-dtype columns with all-bool values will not be included in reductions with bool_only=True. Explicitly cast to bool dtype instead.\n",
      "  self.playlist_tracks_dataframe = pandas.concat([self.playlist_tracks_dataframe, dataframe], ignore_index=True)\n"
     ]
    },
    {
     "name": "stdout",
     "output_type": "stream",
     "text": [
      "Aggiunto ai preferiti\n"
     ]
    },
    {
     "name": "stderr",
     "output_type": "stream",
     "text": [
      "s:\\Coding\\ProgettoSMM\\Progetto2\\group.py:53: FutureWarning: In a future version, object-dtype columns with all-bool values will not be included in reductions with bool_only=True. Explicitly cast to bool dtype instead.\n",
      "  self.playlist_tracks_dataframe = pandas.concat([self.playlist_tracks_dataframe, dataframe], ignore_index=True)\n"
     ]
    },
    {
     "name": "stdout",
     "output_type": "stream",
     "text": [
      "Febbraio23\n"
     ]
    },
    {
     "name": "stderr",
     "output_type": "stream",
     "text": [
      "s:\\Coding\\ProgettoSMM\\Progetto2\\group.py:53: FutureWarning: In a future version, object-dtype columns with all-bool values will not be included in reductions with bool_only=True. Explicitly cast to bool dtype instead.\n",
      "  self.playlist_tracks_dataframe = pandas.concat([self.playlist_tracks_dataframe, dataframe], ignore_index=True)\n"
     ]
    },
    {
     "name": "stdout",
     "output_type": "stream",
     "text": [
      "Novembre 2022\n"
     ]
    },
    {
     "name": "stderr",
     "output_type": "stream",
     "text": [
      "s:\\Coding\\ProgettoSMM\\Progetto2\\group.py:53: FutureWarning: In a future version, object-dtype columns with all-bool values will not be included in reductions with bool_only=True. Explicitly cast to bool dtype instead.\n",
      "  self.playlist_tracks_dataframe = pandas.concat([self.playlist_tracks_dataframe, dataframe], ignore_index=True)\n"
     ]
    },
    {
     "name": "stdout",
     "output_type": "stream",
     "text": [
      "OTTOBRE 2022\n"
     ]
    },
    {
     "name": "stderr",
     "output_type": "stream",
     "text": [
      "s:\\Coding\\ProgettoSMM\\Progetto2\\group.py:53: FutureWarning: In a future version, object-dtype columns with all-bool values will not be included in reductions with bool_only=True. Explicitly cast to bool dtype instead.\n",
      "  self.playlist_tracks_dataframe = pandas.concat([self.playlist_tracks_dataframe, dataframe], ignore_index=True)\n",
      "s:\\Coding\\ProgettoSMM\\Progetto2\\group.py:53: FutureWarning: In a future version, object-dtype columns with all-bool values will not be included in reductions with bool_only=True. Explicitly cast to bool dtype instead.\n",
      "  self.playlist_tracks_dataframe = pandas.concat([self.playlist_tracks_dataframe, dataframe], ignore_index=True)\n"
     ]
    },
    {
     "name": "stdout",
     "output_type": "stream",
     "text": [
      "Time\n",
      "LUGLIO\n"
     ]
    },
    {
     "name": "stderr",
     "output_type": "stream",
     "text": [
      "s:\\Coding\\ProgettoSMM\\Progetto2\\group.py:53: FutureWarning: In a future version, object-dtype columns with all-bool values will not be included in reductions with bool_only=True. Explicitly cast to bool dtype instead.\n",
      "  self.playlist_tracks_dataframe = pandas.concat([self.playlist_tracks_dataframe, dataframe], ignore_index=True)\n"
     ]
    },
    {
     "name": "stdout",
     "output_type": "stream",
     "text": [
      "Estate 2022\n"
     ]
    },
    {
     "name": "stderr",
     "output_type": "stream",
     "text": [
      "s:\\Coding\\ProgettoSMM\\Progetto2\\group.py:53: FutureWarning: In a future version, object-dtype columns with all-bool values will not be included in reductions with bool_only=True. Explicitly cast to bool dtype instead.\n",
      "  self.playlist_tracks_dataframe = pandas.concat([self.playlist_tracks_dataframe, dataframe], ignore_index=True)\n",
      "s:\\Coding\\ProgettoSMM\\Progetto2\\group.py:53: FutureWarning: In a future version, object-dtype columns with all-bool values will not be included in reductions with bool_only=True. Explicitly cast to bool dtype instead.\n",
      "  self.playlist_tracks_dataframe = pandas.concat([self.playlist_tracks_dataframe, dataframe], ignore_index=True)\n"
     ]
    },
    {
     "name": "stdout",
     "output_type": "stream",
     "text": [
      "ROCK\n",
      "Dance90\n"
     ]
    },
    {
     "name": "stderr",
     "output_type": "stream",
     "text": [
      "s:\\Coding\\ProgettoSMM\\Progetto2\\group.py:53: FutureWarning: In a future version, object-dtype columns with all-bool values will not be included in reductions with bool_only=True. Explicitly cast to bool dtype instead.\n",
      "  self.playlist_tracks_dataframe = pandas.concat([self.playlist_tracks_dataframe, dataframe], ignore_index=True)\n"
     ]
    },
    {
     "name": "stdout",
     "output_type": "stream",
     "text": [
      "2022\n"
     ]
    },
    {
     "name": "stderr",
     "output_type": "stream",
     "text": [
      "s:\\Coding\\ProgettoSMM\\Progetto2\\group.py:53: FutureWarning: In a future version, object-dtype columns with all-bool values will not be included in reductions with bool_only=True. Explicitly cast to bool dtype instead.\n",
      "  self.playlist_tracks_dataframe = pandas.concat([self.playlist_tracks_dataframe, dataframe], ignore_index=True)\n"
     ]
    },
    {
     "name": "stdout",
     "output_type": "stream",
     "text": [
      "New playlist \n"
     ]
    },
    {
     "name": "stderr",
     "output_type": "stream",
     "text": [
      "s:\\Coding\\ProgettoSMM\\Progetto2\\group.py:53: FutureWarning: In a future version, object-dtype columns with all-bool values will not be included in reductions with bool_only=True. Explicitly cast to bool dtype instead.\n",
      "  self.playlist_tracks_dataframe = pandas.concat([self.playlist_tracks_dataframe, dataframe], ignore_index=True)\n"
     ]
    },
    {
     "name": "stdout",
     "output_type": "stream",
     "text": [
      "Rock/Metal\n"
     ]
    },
    {
     "name": "stderr",
     "output_type": "stream",
     "text": [
      "s:\\Coding\\ProgettoSMM\\Progetto2\\group.py:53: FutureWarning: In a future version, object-dtype columns with all-bool values will not be included in reductions with bool_only=True. Explicitly cast to bool dtype instead.\n",
      "  self.playlist_tracks_dataframe = pandas.concat([self.playlist_tracks_dataframe, dataframe], ignore_index=True)\n"
     ]
    },
    {
     "name": "stdout",
     "output_type": "stream",
     "text": [
      "Eminem\n"
     ]
    },
    {
     "name": "stderr",
     "output_type": "stream",
     "text": [
      "s:\\Coding\\ProgettoSMM\\Progetto2\\group.py:53: FutureWarning: In a future version, object-dtype columns with all-bool values will not be included in reductions with bool_only=True. Explicitly cast to bool dtype instead.\n",
      "  self.playlist_tracks_dataframe = pandas.concat([self.playlist_tracks_dataframe, dataframe], ignore_index=True)\n"
     ]
    },
    {
     "name": "stdout",
     "output_type": "stream",
     "text": [
      "Pistol Whipping 'n' Hoes\n"
     ]
    },
    {
     "name": "stderr",
     "output_type": "stream",
     "text": [
      "s:\\Coding\\ProgettoSMM\\Progetto2\\group.py:53: FutureWarning: In a future version, object-dtype columns with all-bool values will not be included in reductions with bool_only=True. Explicitly cast to bool dtype instead.\n",
      "  self.playlist_tracks_dataframe = pandas.concat([self.playlist_tracks_dataframe, dataframe], ignore_index=True)\n"
     ]
    },
    {
     "name": "stdout",
     "output_type": "stream",
     "text": [
      "[G]old\n"
     ]
    },
    {
     "name": "stderr",
     "output_type": "stream",
     "text": [
      "s:\\Coding\\ProgettoSMM\\Progetto2\\group.py:53: FutureWarning: In a future version, object-dtype columns with all-bool values will not be included in reductions with bool_only=True. Explicitly cast to bool dtype instead.\n",
      "  self.playlist_tracks_dataframe = pandas.concat([self.playlist_tracks_dataframe, dataframe], ignore_index=True)\n",
      "s:\\Coding\\ProgettoSMM\\Progetto2\\group.py:53: FutureWarning: In a future version, object-dtype columns with all-bool values will not be included in reductions with bool_only=True. Explicitly cast to bool dtype instead.\n",
      "  self.playlist_tracks_dataframe = pandas.concat([self.playlist_tracks_dataframe, dataframe], ignore_index=True)\n"
     ]
    },
    {
     "name": "stdout",
     "output_type": "stream",
     "text": [
      "Chill and Memes\n",
      "Acoustic Mood\n"
     ]
    },
    {
     "name": "stderr",
     "output_type": "stream",
     "text": [
      "s:\\Coding\\ProgettoSMM\\Progetto2\\group.py:53: FutureWarning: In a future version, object-dtype columns with all-bool values will not be included in reductions with bool_only=True. Explicitly cast to bool dtype instead.\n",
      "  self.playlist_tracks_dataframe = pandas.concat([self.playlist_tracks_dataframe, dataframe], ignore_index=True)\n"
     ]
    },
    {
     "name": "stdout",
     "output_type": "stream",
     "text": [
      "🩹\n"
     ]
    },
    {
     "name": "stderr",
     "output_type": "stream",
     "text": [
      "s:\\Coding\\ProgettoSMM\\Progetto2\\group.py:53: FutureWarning: In a future version, object-dtype columns with all-bool values will not be included in reductions with bool_only=True. Explicitly cast to bool dtype instead.\n",
      "  self.playlist_tracks_dataframe = pandas.concat([self.playlist_tracks_dataframe, dataframe], ignore_index=True)\n"
     ]
    }
   ],
   "source": [
    "print('Per ogni playlist cerco le relative tracks')\n",
    "\n",
    "# Per ogni playlist collezionata, cerco le relative tracks\n",
    "for index, playlist in group.get_playlist_dataframe().iterrows():\n",
    "    print(playlist.get('playlist_name'))\n",
    "\n",
    "    # Prendo le tracks in una playlist\n",
    "    results = sp.playlist_items(playlist_id=playlist.get('playlist_id'), limit=100)\n",
    "\n",
    "    # Converto la risposta in un json\n",
    "    items_raw = json.dumps(results['items'])\n",
    "    items_json = json.loads(items_raw)\n",
    "    items_list = list(items_json)\n",
    "\n",
    "    # Creo una lista temporanea delle playlist dell'utente corrente\n",
    "    playlist_tracks_list = list(map(lambda track: {\n",
    "        'user_id': playlist.get('user_id'),\n",
    "        'user_display_name': playlist.get('user_display_name'),\n",
    "        'playlist_id': playlist.get('playlist_id'),\n",
    "        'playlist_name': playlist.get('playlist_name'),\n",
    "        'album_id': track.get('track', {}).get('album', {}).get('id'),\n",
    "        'album_name': track.get('track', {}).get('album', {}).get('name'),\n",
    "        'album_release_date': track.get('track', {}).get('album', {}).get('release_date'),\n",
    "        'album_total_tracks': track.get('track', {}).get('album', {}).get('total_tracks'),\n",
    "        'artist_id': track.get('track', {}).get('artists', {})[0].get('id'),\n",
    "        'artist_name': track.get('track', {}).get('artists', {})[0].get('name'),\n",
    "        'track_disc_number': track.get('track', {}).get('disc_number'),\n",
    "        'track_duration_ms': track.get('track', {}).get('duration_ms'),\n",
    "        'track_explicit': track.get('track', {}).get('explicit'),\n",
    "        'track_id': track.get('track', {}).get('id'),\n",
    "        'track_name': track.get('track', {}).get('name'),\n",
    "        'track_popularity': track.get('track', {}).get('popularity')\n",
    "    }, items_list))\n",
    "\n",
    "    # Creo un dataframe con la playlist dell'utente corrente\n",
    "    playlist_tracks_dataframe = pandas.DataFrame(playlist_tracks_list)\n",
    "\n",
    "    # Concateno con il dataframe finale\n",
    "    group.append_to_playlist_tracks_dataframe(playlist_tracks_dataframe)\n"
   ]
  },
  {
   "attachments": {},
   "cell_type": "markdown",
   "metadata": {},
   "source": [
    "## Analisi dei dati\n",
    "\n",
    "In questo step andremo ad analizzare tutti i dati raccolti precedentemente, tramite un algoritmo basato sul metodo <b>Content-based filtering</b> come sistema di raccomandazione, per creare infine una playlist che accomuna le preferenze degli utenti in lista."
   ]
  },
  {
   "attachments": {},
   "cell_type": "markdown",
   "metadata": {},
   "source": [
    "### Content-based filtering"
   ]
  },
  {
   "attachments": {},
   "cell_type": "markdown",
   "metadata": {},
   "source": [
    "Il **Content-based filtering** è un metodo del sistema di raccomandazione per formulare raccomandazioni agli utenti in base alle caratteristiche o agli attributi degli elementi a cui gli utenti hanno mostrato interesse. Il sistema utilizza questi attributi per identificare elementi simili e quindi formula raccomandazioni agli utenti in base alla somiglianza.<br>\n",
    "<br>\n",
    "L'idea generale alla base di questo metodo è che se a un utente piace un elemento, gli piaceranno anche elementi simili, messi a fattor comune da un dataset globale come risultato ottenuto dalla raccolta dei dati. Per implementare un sistema di content-based filtering, il primo passo è estrarre \"feature\" o attributi chiave dagli elementi in quesitone. Queste caratteristiche possono essere tutto ciò che caratterizza l'oggetto, come il suo genere, l'artista, il numero di \"mi piace\", ecc.. Successivamente, viene utilizzata una misura di somiglianza, come la somiglianza del coseno, per confrontare i vettori delle caratteristiche degli elementi per identificare elementi simili. Infine, il sistema utilizza gli elementi simili identificati per formulare raccomandazioni agli utenti.<br>\n",
    "<br>\n",
    "Questo modello può essere diviso in due tipi principali:\n",
    "- **Item-content based**: Questo metodo utilizza le caratteristiche dell'elemento per consigliare elementi simili all'utente. Ad esempio, se a un utente piace una canzone che è classificata come \"rock\" e ha \"Jimi Hendrix\" come artista, il sistema consiglierà altre canzoni che sono anche classificate come \"rock\" e hanno \"Jimi Hendrix\" come artista.\n",
    "- **User-content based**: Questo metodo utilizza le funzionalità dell'utente per consigliare elementi simili alle preferenze dell'utente. Ad esempio, se a un utente piacciono i generi \"rock\" e \"pop\", il sistema consiglierà elementi che provengono da questi generi.\n",
    "\n",
    "<br>\n",
    "È importante notare che il content-based filtering è limitato dalla qualità e dalla quantità delle caratteristiche dell'elemento, se le caratteristiche non sono informative o pertinenti, le raccomandazioni non saranno accurate.\n",
    "<br>\n",
    "\n",
    "Il metodo **Content-based filtering** prevede in genere i seguenti passaggi:\n",
    "- **Raccogliere e preelaborare le caratteristiche dell'oggetto**: il primo passo è raccogliere le caratteristiche degli oggetti, come il genere, l'artista, gli album, ecc.. e preelaborarle per l'analisi. Questo passaggio può includere la \"pulizia\" dei dati, la rimozione dei valori mancanti e la conversione di feature categoriche in valori numerici.\n",
    "- **Creare un vettore di feature per ogni elemento**: una volta che le feature sono preelaborate, il passo successivo consiste nel creare un vettore di feature per ogni elemento. Questo vettore rappresenta le caratteristiche dell'elemento in forma numerica e viene utilizzato per confrontare la somiglianza tra gli elementi.\n",
    "- **Calcolare la somiglianza tra gli elementi**: dopo aver creato i vettori di feature, il sistema utilizza una misura di somiglianza come la somiglianza del coseno, la somiglianza di Jaccard o la distanza euclidea per calcolare la somiglianza tra gli elementi.\n",
    "- **Fare raccomandazioni**: una volta calcolata la somiglianza tra gli elementi, il sistema può formulare raccomandazioni agli utenti in base alla somiglianza. Ad esempio, se un utente ha mostrato interesse per un elemento specifico, il sistema può raccomandare altri elementi simili all'utente.\n",
    "- **Rivalutare e aggiornare il modello**: il passo finale è rivalutare le prestazioni del modello e aggiornarlo se necessario. Questo passaggio può includere l'aggiunta di nuovi elementi, la rimozione di elementi irrilevanti e la regolazione del peso delle feature.\n",
    "\n",
    "<br>\n",
    "\n",
    "Vale la pena notare che il metodo di filtraggio basato sui contenuti può essere migliorato includendo informazioni aggiuntive, come le informazioni demografiche dell'utente, o integrandolo con altre tecniche di raccomandazione, come il Collaborative filtering.<br>\n",
    "<br>\n",
    "Inoltre, mentre il Content-based filtering è adatto per raccomandare elementi agli utenti con una storia di interazioni, non è bravo a raccomandare elementi a nuovi utenti senza alcuna cronologia, a questo scopo, può essere utilizzata una tecnica di filtraggio ibrido che combina i punti di forza sia del filtraggio basato sui contenuti che del filtraggio collaborativo."
   ]
  },
  {
   "cell_type": "code",
   "execution_count": 8,
   "metadata": {},
   "outputs": [
    {
     "name": "stdout",
     "output_type": "stream",
     "text": [
      "Creo le tabelle pivot...\n"
     ]
    }
   ],
   "source": [
    "print('Creo le tabelle pivot...')\n",
    "\n",
    "# Creo una tabella pivot con il numero di tracks per playlist di ogni utente\n",
    "group.create_tracks_pivot_table()\n",
    "\n",
    "# Creo una tabella pivot con il numero di tracks per album di ogni utente\n",
    "group.create_albums_pivot_table()\n",
    "\n",
    "# Creo una tabella pivot \n",
    "group.create_artists_pivot_table()"
   ]
  },
  {
   "cell_type": "code",
   "execution_count": 9,
   "metadata": {},
   "outputs": [],
   "source": [
    "# Prendi i top 5 artisti e cerca le loro 2 canzoni più in voga\n",
    "\n",
    "limit = 5\n",
    "take_tracks = 2\n",
    "i = 0\n",
    "\n",
    "for key, row in group.get_artists_pivot_table()[:limit].iterrows():\n",
    "\n",
    "    # Cerco le top tracks dell'artista\n",
    "    result = sp.artist_top_tracks(artist_id=key)\n",
    "\n",
    "    # Converto la risposta in json\n",
    "    items_raw = json.dumps(result['tracks'])\n",
    "    items_json = json.loads(items_raw)\n",
    "    items_list = list(items_json)\n",
    "\n",
    "    # Creo una lista temporanea delle tracks dell'artista corrente\n",
    "    artist_tracks = list(map(lambda track: {\n",
    "        'album_id': track.get('album', {}).get('id'),\n",
    "        'album_name': track.get('album', {}).get('name'),\n",
    "        'album_release_date': track.get('album', {}).get('release_date'),\n",
    "        'artist_id': track.get('artists', {})[0].get('id'),\n",
    "        'artist_name': track.get('artists', {})[0].get('name'),\n",
    "        'track_disc_number': track.get('disc_number'),\n",
    "        'track_duration_ms': track.get('duration_ms'),\n",
    "        'track_explicit': track.get('explicit'),\n",
    "        'track_popularity': track.get('popularity'),\n",
    "        'track_id': track.get('id'),\n",
    "        'track_name': track.get('name')\n",
    "    }, items_list))\n",
    "\n",
    "    # Ordino la lista temporanea per l'attributo track_populatiry\n",
    "    artist_tracks = sorted(artist_tracks, key=lambda track: track['track_popularity'], reverse=True)\n",
    "\n",
    "    # Aggiungo la lista temporanea alle informazioni del gruppo\n",
    "    group.append_to_artists_top_tracks(artist_tracks[:take_tracks])\n",
    "\n",
    "    i += 1\n",
    "    if i < limit:\n",
    "        time.sleep(5)"
   ]
  },
  {
   "cell_type": "code",
   "execution_count": 10,
   "metadata": {},
   "outputs": [],
   "source": [
    "# Prendi i top 5 album e cerca le loro 2 canzoni più in voga\n",
    "\n",
    "limit = 5\n",
    "take_tracks = 2\n",
    "i = 0\n",
    "\n",
    "for key, row in group.get_albums_pivot_table()[:limit].iterrows():\n",
    "\n",
    "    # Cerco le top tracks dell'artista\n",
    "    result = sp.album_tracks(album_id=key)\n",
    "\n",
    "    # Converto la risposta in json\n",
    "    items_raw = json.dumps(result['items'])\n",
    "    items_json = json.loads(items_raw)\n",
    "    items_list = list(items_json)\n",
    "\n",
    "    # Creo una lista temporanea delle tracks dell'album corrente\n",
    "    album_tracks = list(map(lambda track: {\n",
    "        'album_id': None,\n",
    "        'album_name': None,\n",
    "        'album_release_date': None,\n",
    "        'artist_id': track.get('artists', {})[0].get('id'),\n",
    "        'artist_name': track.get('artists', {})[0].get('name'),\n",
    "        'track_disc_number': track.get('disc_number'),\n",
    "        'track_duration_ms': track.get('duration_ms'),\n",
    "        'track_explicit': track.get('explicit'),\n",
    "        'track_popularity': None,\n",
    "        'track_id': track.get('id'),\n",
    "        'track_name': track.get('name')\n",
    "    }, items_list))\n",
    "\n",
    "    # Aggiungo la lista temporanea alle informazioni del gruppo\n",
    "    group.append_to_albums_top_tracks(album_tracks[:take_tracks])\n",
    "\n",
    "    i += 1\n",
    "    if i < limit:\n",
    "        time.sleep(5)"
   ]
  },
  {
   "cell_type": "code",
   "execution_count": 11,
   "metadata": {},
   "outputs": [],
   "source": [
    "# Definizione della playlist raccomandata\n",
    "\n",
    "# Inizializzo la Recommended playlist\n",
    "group.recommended_playlist = group.get_artists_top_tracks() + group.get_albums_top_tracks()"
   ]
  },
  {
   "cell_type": "code",
   "execution_count": 12,
   "metadata": {},
   "outputs": [],
   "source": [
    "# Definisco la recommended tracks playlist\n",
    "\n",
    "i = 0\n",
    "limit = 40\n",
    "__tracks_list = group.get_playlist_tracks_dataframe()\n",
    "\n",
    "# Fintantoché la lista non raggiunge il limit desiderato\n",
    "while length_hint(group.get_recommended_playlist()) < limit:\n",
    "\n",
    "    # Prondo le informazioni della track\n",
    "    track_id = group.get_tracks_pivot_table().iloc[i].name\n",
    "    results = __tracks_list.loc[__tracks_list['track_id'] == track_id]\n",
    "    item = results.iloc[0]\n",
    "\n",
    "    track = {\n",
    "        'album_id': item.get('album_id'),\n",
    "        'album_name': item.get('album_name'),\n",
    "        'album_release_date': item.get('album_release_date'),\n",
    "        'artist_id': item.get('artist_id'),\n",
    "        'artist_name': item.get('artist_name'),\n",
    "        'track_disc_number': item.get('track_disc_number'),\n",
    "        'track_duration_ms': item.get('track_duration_ms'),\n",
    "        'track_explicit': item.get('track_explicit'),\n",
    "        'track_popularity': item.get('track_popularity'),\n",
    "        'track_id': item.get('track_id'),\n",
    "        'track_name': item.get('track_name')\n",
    "    }\n",
    "\n",
    "    # Appendo l'item in lista\n",
    "    group.append_to_recommend_playlist(track)\n",
    "\n",
    "    i += 1\n"
   ]
  },
  {
   "cell_type": "code",
   "execution_count": 13,
   "metadata": {},
   "outputs": [],
   "source": [
    "# Ottengo la data corrente\n",
    "current_date_time = datetime.now()\n",
    "\n",
    "# Formato la data corrente\n",
    "date_format = current_date_time.strftime(\"%Y-%m-%d\")\n",
    "\n",
    "# Informazioni della playlist\n",
    "playlist_name = 'Recommend playlist - {}'.format(date_format)\n",
    "playlist_description = 'SMM'\n",
    "\n",
    "user_id = group.get_from_list(0).user_id\n",
    "\n",
    "# Creo la nuova playlist su Spotify e l'aggiungo a quelle dell'utente\n",
    "result = sp.user_playlist_create(user=user_id, name=playlist_name, description=playlist_description, public=True)\n"
   ]
  },
  {
   "cell_type": "code",
   "execution_count": 14,
   "metadata": {},
   "outputs": [
    {
     "data": {
      "text/plain": [
       "{'snapshot_id': 'MyxkYjVkZGM0NDdiMzQxMWViNmI2NGUzN2QxNzcyOGI5OThhNmNhNDJi'}"
      ]
     },
     "execution_count": 14,
     "metadata": {},
     "output_type": "execute_result"
    }
   ],
   "source": [
    "# Creo una lista temporanea delle recommended tracks\n",
    "track_list = list(map(lambda x: x.get('track_id'), group.get_recommended_playlist()))\n",
    "\n",
    "playlist_id = result.get('id')\n",
    "\n",
    "# Aggiungo tutte le recommended tracks alla playlist appena creata\n",
    "sp.user_playlist_add_tracks(user=user_id, playlist_id=playlist_id, tracks=track_list)"
   ]
  },
  {
   "cell_type": "markdown",
   "metadata": {},
   "source": [
    "## Metodi di Sistemi di raccomandazione a confronto"
   ]
  },
  {
   "cell_type": "markdown",
   "metadata": {},
   "source": [
    "\n",
    "### Collaborative filtering"
   ]
  },
  {
   "attachments": {},
   "cell_type": "markdown",
   "metadata": {},
   "source": [
    "Tra i **sistemi di raccomandazione** è noto il metodo **Collaborative filtering** per formulare raccomandazioni agli utenti in base al loro comportamento passato e al comportamento di utenti simili.<br>\n",
    "\n",
    "> Questo sistema utilizza per identificare modelli e somiglianze tra loro, quindi utilizza questi modelli per formulare raccomandazioni ai nuovi utenti.<br>\n",
    "<br>\n",
    "Per implementare questo sistema, il primo passo è raccogliere dati sul comportamento passato degli utenti. Questi dati vengono quindi utilizzati per creare una matrice di elementi utente che rappresenta le valutazioni che gli utenti hanno dato agli elementi. Successivamente, il sistema utilizza una misura di somiglianza (come la somiglianza coseno) per identificare utenti o elementi simili. Infine, il sistema utilizza gli utenti o gli elementi simili identificati per formulare raccomandazioni ai nuovi utenti.<br>\n",
    "<br>\n",
    "È importante notare che il filtro collaborativo è una tecnica basata sulla memoria, significa che l'algoritmo deve avere accesso a tutte le interazioni utente-elemento per generare raccomandazioni, ecco perché non è adatto per set di dati di grandi dimensioni. Inoltre, può essere influenzato dal problema del cold-start, significa che l'algoritmo non può raccomandare elementi ai nuovi utenti che non hanno ancora interagito con il sistema.<br>"
   ]
  },
  {
   "attachments": {},
   "cell_type": "markdown",
   "metadata": {},
   "source": [
    "### Content-based filtering vs Collaborative filtering"
   ]
  },
  {
   "attachments": {},
   "cell_type": "markdown",
   "metadata": {},
   "source": [
    "È stato scelto di implementare un algoritmo basato sul metodo di <b>Content-based filtering</b> perché si basa sull'analisi di un set di informazioni, dove è possibile che non tutti gli utenti hanno una \"storia passata\", ovvero che non hanno espresso opinione, alimentando così il set di dati. Mentre per il metodo <b>Collaborative filtering</b> è importante per ottenere un risultato accettabile, che tutti gli utenti partecipano nel raccolta dei dati.<br>\n",
    "In questo caso, dunque, si presuppone che gli elementi scelti dall'algoritmo, possano piacere pure agli utenti che non hanno espresso opinione, in quanto, piacciono ad altri utenti della lista."
   ]
  },
  {
   "attachments": {},
   "cell_type": "markdown",
   "metadata": {},
   "source": [
    "## Feedback sulla playlist"
   ]
  },
  {
   "attachments": {},
   "cell_type": "markdown",
   "metadata": {},
   "source": [
    "![Feedback](img/Feedback.png)\n",
    "![Feedback1](img/Feedback1.png)\n",
    "![Feedback2](img/Feedback2.png)"
   ]
  }
 ],
 "metadata": {
  "kernelspec": {
   "display_name": "Python 3",
   "language": "python",
   "name": "python3"
  },
  "language_info": {
   "codemirror_mode": {
    "name": "ipython",
    "version": 3
   },
   "file_extension": ".py",
   "mimetype": "text/x-python",
   "name": "python",
   "nbconvert_exporter": "python",
   "pygments_lexer": "ipython3",
   "version": "3.11.1"
  },
  "orig_nbformat": 4,
  "vscode": {
   "interpreter": {
    "hash": "f5b1cb6dc680b3d6bf29b5af02061c0a15fd523b21038e9be2963a520c148ee2"
   }
  }
 },
 "nbformat": 4,
 "nbformat_minor": 2
}
