{
 "cells": [
  {
   "attachments": {},
   "cell_type": "markdown",
   "metadata": {},
   "source": [
    "# Progetto - Spotify API\n",
    "\n",
    "### Progetto di Francesco Petrosino X81000533\n"
   ]
  },
  {
   "attachments": {},
   "cell_type": "markdown",
   "metadata": {},
   "source": [
    "## Introduzione\n",
    "\n",
    "testo"
   ]
  },
  {
   "attachments": {},
   "cell_type": "markdown",
   "metadata": {},
   "source": [
    "## Come funziona\n",
    "\n",
    "testo"
   ]
  },
  {
   "attachments": {},
   "cell_type": "markdown",
   "metadata": {},
   "source": [
    "### Installare le librerie richieste\n",
    "\n",
    "Esegui questo comando nel tuo terminale: `py -m pip install --upgrade -r .\\requirements.txt`"
   ]
  },
  {
   "cell_type": "code",
   "execution_count": 1,
   "metadata": {},
   "outputs": [],
   "source": [
    "# Imports libraries\n",
    "\n",
    "import time\n",
    "import pandas\n",
    "import sklearn\n",
    "import json\n",
    "import spotipy\n",
    "from group import Group\n",
    "from spotipy.oauth2 import SpotifyOAuth\n",
    "from user import User\n",
    "\n",
    "import main"
   ]
  },
  {
   "cell_type": "code",
   "execution_count": 2,
   "metadata": {},
   "outputs": [],
   "source": [
    "# Sets variables\n",
    "\n",
    "# client_id = \"YOUR_CLIENT_ID\"\n",
    "# client_secret = \"YOUR_CLIENT_SECRET\"\n",
    "# redirect_uri = \"YOUR_REDIRECT_URI\"\n",
    "client_id = \"b48898f561ab4533b7396439e6610ff4\"\n",
    "client_secret = \"bbf061893e8f4ff8924eed41c39c6a90\"\n",
    "redirect_uri = \"http://localhost:8080\"\n",
    "\n",
    "scope = [\n",
    "\t\"user-library-read\",\n",
    "\t\"user-top-read\",\n",
    "\t\"user-follow-read\",\n",
    "\t\"user-read-private\",\n",
    "\t\"user-read-recently-played\",\n",
    "\t\"user-read-playback-state\",\n",
    "\t\"user-modify-playback-state\",\n",
    "\t\"user-read-playback-position\",\n",
    "\t\"streaming\",\n",
    "\t\"app-remote-control\",\n",
    "\t\"playlist-read-private\",\n",
    "\t\"playlist-modify-private\",\n",
    "\t\"playlist-modify-public\",\n",
    "\t\"playlist-read-collaborative\"\n",
    "]\n",
    "\n",
    "# Authenticates\n",
    "\n",
    "auth_manager = SpotifyOAuth(\n",
    "\tclient_id=client_id,\n",
    "\tclient_secret=client_secret,\n",
    "\tredirect_uri=redirect_uri,\n",
    "\tscope=scope\n",
    ")\n",
    "\n",
    "sp = spotipy.Spotify(auth_manager=auth_manager)"
   ]
  },
  {
   "cell_type": "code",
   "execution_count": 3,
   "metadata": {},
   "outputs": [
    {
     "name": "stdout",
     "output_type": "stream",
     "text": [
      "Creo il gruppo...\n",
      "L'username di Francesco Petrosino è 21ktslj6lkgx6wswmfwu5cwuq\n",
      "L'username di Ale è rcin690qmgjd32d088agw6xyr\n",
      "L'username di Philip Giovanni Emmer è 1171706601\n",
      "L'username di Renato è 6ua7zipvurza24psy4h2rvumy\n",
      "L'username di Elio Pampolini è 21vfi35alpob2afo2vtoybthi\n",
      "L'username di Scalòppina è 392q67hc38jnsgjg2hqrjyuhc\n"
     ]
    }
   ],
   "source": [
    "# Defines a list of users\n",
    "\n",
    "# Static list\n",
    "\n",
    "group = Group()\n",
    "\n",
    "id_list = [\n",
    "\t'21ktslj6lkgx6wswmfwu5cwuq',\n",
    "\t'rcin690qmgjd32d088agw6xyr',\n",
    "\t'1171706601',\n",
    "\t'6ua7zipvurza24psy4h2rvumy',\n",
    "\t'21vfi35alpob2afo2vtoybthi',\n",
    "\t'392q67hc38jnsgjg2hqrjyuhc'\n",
    "]\n",
    "\n",
    "print(\"Creo il gruppo...\")\n",
    "\n",
    "len = len(id_list)\n",
    "\n",
    "for i, id in enumerate(id_list):\n",
    "\tresult = sp.user(id)\n",
    "\n",
    "\tuser = User(result)\n",
    "\tgroup.append(user)\n",
    "\t\n",
    "\tuser.print()\n",
    "\n",
    "\tif i+1 < len: \n",
    "\t\ttime.sleep(5)"
   ]
  },
  {
   "cell_type": "code",
   "execution_count": 4,
   "metadata": {},
   "outputs": [
    {
     "name": "stdout",
     "output_type": "stream",
     "text": [
      "Prendo le playlists dal server...\n",
      "Francesco Petrosino\n",
      "Ale\n",
      "Philip Giovanni Emmer\n",
      "Renato\n",
      "Elio Pampolini\n",
      "Scalòppina\n"
     ]
    }
   ],
   "source": [
    "print(\"Prendo le playlists dal server...\")\n",
    "\n",
    "len = group.count()\n",
    "\n",
    "for i in range(len):\n",
    "\tuser = group.get_from_list(i)\n",
    "\n",
    "\tprint(user.display_name)\n",
    "\n",
    "\tresults = sp.user_playlists(user=user.user_id, limit=10)\n",
    "\tuser.set_following_playlists(results['items'])\n",
    "\n",
    "\tif i+1 < len: \n",
    "\t\ttime.sleep(5)"
   ]
  },
  {
   "cell_type": "code",
   "execution_count": 5,
   "metadata": {},
   "outputs": [
    {
     "name": "stdout",
     "output_type": "stream",
     "text": [
      "Creo un dataframe con le playlists...\n"
     ]
    },
    {
     "name": "stderr",
     "output_type": "stream",
     "text": [
      "s:\\Coding\\ProgettoSMM\\Progetto2\\group.py:35: FutureWarning: In a future version, object-dtype columns with all-bool values will not be included in reductions with bool_only=True. Explicitly cast to bool dtype instead.\n",
      "  self.playlist_dataframe = pandas.concat([self.playlist_dataframe, dataframe], ignore_index=True)\n",
      "s:\\Coding\\ProgettoSMM\\Progetto2\\group.py:35: FutureWarning: In a future version, object-dtype columns with all-bool values will not be included in reductions with bool_only=True. Explicitly cast to bool dtype instead.\n",
      "  self.playlist_dataframe = pandas.concat([self.playlist_dataframe, dataframe], ignore_index=True)\n",
      "s:\\Coding\\ProgettoSMM\\Progetto2\\group.py:35: FutureWarning: In a future version, object-dtype columns with all-bool values will not be included in reductions with bool_only=True. Explicitly cast to bool dtype instead.\n",
      "  self.playlist_dataframe = pandas.concat([self.playlist_dataframe, dataframe], ignore_index=True)\n",
      "s:\\Coding\\ProgettoSMM\\Progetto2\\group.py:35: FutureWarning: In a future version, object-dtype columns with all-bool values will not be included in reductions with bool_only=True. Explicitly cast to bool dtype instead.\n",
      "  self.playlist_dataframe = pandas.concat([self.playlist_dataframe, dataframe], ignore_index=True)\n"
     ]
    }
   ],
   "source": [
    "print(\"Creo un dataframe con le playlists...\")\n",
    "\n",
    "len = group.count()\n",
    "\n",
    "for i in range(len):\n",
    "\t# Prendo l'utente corrente\n",
    "\tuser = group.get_from_list(i)\n",
    "\n",
    "\t# Creo una lista temporanea delle playlist dell'utente corrente\n",
    "\tplaylist_list = list(map(lambda playlist: {\n",
    "\t\t'user_id': user.user_id,\n",
    "\t\t'user_display_name': user.display_name,\n",
    "\t\t'playlist_id': playlist.get('id'),\n",
    "\t\t'playlist_name': playlist.get('name'),\n",
    "\t\t'playlist_description': playlist.get('description'),\n",
    "\t\t'playlist_uri': playlist.get('uri'),\n",
    "\t\t'playlist_public': playlist.get('public'),\n",
    "\t\t'playlist_total_tracks': playlist.get('tracks', {}).get('total')\n",
    "\t}, user.get_following_playlists()))\n",
    "\n",
    "\t# Creo un dataframe con la playlist dell'utente corrente\n",
    "\tplaylist_user_dataframe = pandas.DataFrame(playlist_list)\n",
    "\n",
    "\t# Concateno con il dataframe finale\n",
    "\tgroup.append_to_playlist_dataframe(playlist_user_dataframe)\n"
   ]
  },
  {
   "cell_type": "code",
   "execution_count": 6,
   "metadata": {},
   "outputs": [
    {
     "name": "stdout",
     "output_type": "stream",
     "text": [
      "Per ogni playlist cerco le relative tracks\n",
      "Car\n",
      "Guitar\n"
     ]
    },
    {
     "name": "stderr",
     "output_type": "stream",
     "text": [
      "s:\\Coding\\ProgettoSMM\\Progetto2\\group.py:43: FutureWarning: In a future version, object-dtype columns with all-bool values will not be included in reductions with bool_only=True. Explicitly cast to bool dtype instead.\n",
      "  self.playlist_tracks_dataframe = pandas.concat([self.playlist_tracks_dataframe, dataframe], ignore_index=True)\n",
      "s:\\Coding\\ProgettoSMM\\Progetto2\\group.py:43: FutureWarning: In a future version, object-dtype columns with all-bool values will not be included in reductions with bool_only=True. Explicitly cast to bool dtype instead.\n",
      "  self.playlist_tracks_dataframe = pandas.concat([self.playlist_tracks_dataframe, dataframe], ignore_index=True)\n"
     ]
    },
    {
     "name": "stdout",
     "output_type": "stream",
     "text": [
      "2021\n",
      "- MUSIC (R) \n"
     ]
    },
    {
     "name": "stderr",
     "output_type": "stream",
     "text": [
      "s:\\Coding\\ProgettoSMM\\Progetto2\\group.py:43: FutureWarning: In a future version, object-dtype columns with all-bool values will not be included in reductions with bool_only=True. Explicitly cast to bool dtype instead.\n",
      "  self.playlist_tracks_dataframe = pandas.concat([self.playlist_tracks_dataframe, dataframe], ignore_index=True)\n",
      "s:\\Coding\\ProgettoSMM\\Progetto2\\group.py:43: FutureWarning: In a future version, object-dtype columns with all-bool values will not be included in reductions with bool_only=True. Explicitly cast to bool dtype instead.\n",
      "  self.playlist_tracks_dataframe = pandas.concat([self.playlist_tracks_dataframe, dataframe], ignore_index=True)\n"
     ]
    },
    {
     "name": "stdout",
     "output_type": "stream",
     "text": [
      "2020 Look up\n",
      "Relax\n"
     ]
    },
    {
     "name": "stderr",
     "output_type": "stream",
     "text": [
      "s:\\Coding\\ProgettoSMM\\Progetto2\\group.py:43: FutureWarning: In a future version, object-dtype columns with all-bool values will not be included in reductions with bool_only=True. Explicitly cast to bool dtype instead.\n",
      "  self.playlist_tracks_dataframe = pandas.concat([self.playlist_tracks_dataframe, dataframe], ignore_index=True)\n",
      "s:\\Coding\\ProgettoSMM\\Progetto2\\group.py:43: FutureWarning: In a future version, object-dtype columns with all-bool values will not be included in reductions with bool_only=True. Explicitly cast to bool dtype instead.\n",
      "  self.playlist_tracks_dataframe = pandas.concat([self.playlist_tracks_dataframe, dataframe], ignore_index=True)\n"
     ]
    },
    {
     "name": "stdout",
     "output_type": "stream",
     "text": [
      "el latino\n",
      "Artemis\n"
     ]
    },
    {
     "name": "stderr",
     "output_type": "stream",
     "text": [
      "s:\\Coding\\ProgettoSMM\\Progetto2\\group.py:43: FutureWarning: In a future version, object-dtype columns with all-bool values will not be included in reductions with bool_only=True. Explicitly cast to bool dtype instead.\n",
      "  self.playlist_tracks_dataframe = pandas.concat([self.playlist_tracks_dataframe, dataframe], ignore_index=True)\n",
      "s:\\Coding\\ProgettoSMM\\Progetto2\\group.py:43: FutureWarning: In a future version, object-dtype columns with all-bool values will not be included in reductions with bool_only=True. Explicitly cast to bool dtype instead.\n",
      "  self.playlist_tracks_dataframe = pandas.concat([self.playlist_tracks_dataframe, dataframe], ignore_index=True)\n"
     ]
    },
    {
     "name": "stdout",
     "output_type": "stream",
     "text": [
      "Macchina\n",
      "Indie pier\n"
     ]
    },
    {
     "name": "stderr",
     "output_type": "stream",
     "text": [
      "s:\\Coding\\ProgettoSMM\\Progetto2\\group.py:43: FutureWarning: In a future version, object-dtype columns with all-bool values will not be included in reductions with bool_only=True. Explicitly cast to bool dtype instead.\n",
      "  self.playlist_tracks_dataframe = pandas.concat([self.playlist_tracks_dataframe, dataframe], ignore_index=True)\n",
      "s:\\Coding\\ProgettoSMM\\Progetto2\\group.py:43: FutureWarning: In a future version, object-dtype columns with all-bool values will not be included in reductions with bool_only=True. Explicitly cast to bool dtype instead.\n",
      "  self.playlist_tracks_dataframe = pandas.concat([self.playlist_tracks_dataframe, dataframe], ignore_index=True)\n"
     ]
    },
    {
     "name": "stdout",
     "output_type": "stream",
     "text": [
      "Allenamento\n",
      "Alan\n"
     ]
    },
    {
     "name": "stderr",
     "output_type": "stream",
     "text": [
      "s:\\Coding\\ProgettoSMM\\Progetto2\\group.py:43: FutureWarning: In a future version, object-dtype columns with all-bool values will not be included in reductions with bool_only=True. Explicitly cast to bool dtype instead.\n",
      "  self.playlist_tracks_dataframe = pandas.concat([self.playlist_tracks_dataframe, dataframe], ignore_index=True)\n",
      "s:\\Coding\\ProgettoSMM\\Progetto2\\group.py:43: FutureWarning: In a future version, object-dtype columns with all-bool values will not be included in reductions with bool_only=True. Explicitly cast to bool dtype instead.\n",
      "  self.playlist_tracks_dataframe = pandas.concat([self.playlist_tracks_dataframe, dataframe], ignore_index=True)\n"
     ]
    },
    {
     "name": "stdout",
     "output_type": "stream",
     "text": [
      "thnx workout\n",
      "Travel\n"
     ]
    },
    {
     "name": "stderr",
     "output_type": "stream",
     "text": [
      "s:\\Coding\\ProgettoSMM\\Progetto2\\group.py:43: FutureWarning: In a future version, object-dtype columns with all-bool values will not be included in reductions with bool_only=True. Explicitly cast to bool dtype instead.\n",
      "  self.playlist_tracks_dataframe = pandas.concat([self.playlist_tracks_dataframe, dataframe], ignore_index=True)\n",
      "s:\\Coding\\ProgettoSMM\\Progetto2\\group.py:43: FutureWarning: In a future version, object-dtype columns with all-bool values will not be included in reductions with bool_only=True. Explicitly cast to bool dtype instead.\n",
      "  self.playlist_tracks_dataframe = pandas.concat([self.playlist_tracks_dataframe, dataframe], ignore_index=True)\n"
     ]
    },
    {
     "name": "stdout",
     "output_type": "stream",
     "text": [
      "Pump\n",
      "In(die)\n"
     ]
    },
    {
     "name": "stderr",
     "output_type": "stream",
     "text": [
      "s:\\Coding\\ProgettoSMM\\Progetto2\\group.py:43: FutureWarning: In a future version, object-dtype columns with all-bool values will not be included in reductions with bool_only=True. Explicitly cast to bool dtype instead.\n",
      "  self.playlist_tracks_dataframe = pandas.concat([self.playlist_tracks_dataframe, dataframe], ignore_index=True)\n",
      "s:\\Coding\\ProgettoSMM\\Progetto2\\group.py:43: FutureWarning: In a future version, object-dtype columns with all-bool values will not be included in reductions with bool_only=True. Explicitly cast to bool dtype instead.\n",
      "  self.playlist_tracks_dataframe = pandas.concat([self.playlist_tracks_dataframe, dataframe], ignore_index=True)\n"
     ]
    },
    {
     "name": "stdout",
     "output_type": "stream",
     "text": [
      "Mix\n",
      "Fun time\n"
     ]
    },
    {
     "name": "stderr",
     "output_type": "stream",
     "text": [
      "s:\\Coding\\ProgettoSMM\\Progetto2\\group.py:43: FutureWarning: In a future version, object-dtype columns with all-bool values will not be included in reductions with bool_only=True. Explicitly cast to bool dtype instead.\n",
      "  self.playlist_tracks_dataframe = pandas.concat([self.playlist_tracks_dataframe, dataframe], ignore_index=True)\n",
      "s:\\Coding\\ProgettoSMM\\Progetto2\\group.py:43: FutureWarning: In a future version, object-dtype columns with all-bool values will not be included in reductions with bool_only=True. Explicitly cast to bool dtype instead.\n",
      "  self.playlist_tracks_dataframe = pandas.concat([self.playlist_tracks_dataframe, dataframe], ignore_index=True)\n"
     ]
    },
    {
     "name": "stdout",
     "output_type": "stream",
     "text": [
      "🎹🎹🎹🎹\n",
      "D Mood\n"
     ]
    },
    {
     "name": "stderr",
     "output_type": "stream",
     "text": [
      "s:\\Coding\\ProgettoSMM\\Progetto2\\group.py:43: FutureWarning: In a future version, object-dtype columns with all-bool values will not be included in reductions with bool_only=True. Explicitly cast to bool dtype instead.\n",
      "  self.playlist_tracks_dataframe = pandas.concat([self.playlist_tracks_dataframe, dataframe], ignore_index=True)\n",
      "s:\\Coding\\ProgettoSMM\\Progetto2\\group.py:43: FutureWarning: In a future version, object-dtype columns with all-bool values will not be included in reductions with bool_only=True. Explicitly cast to bool dtype instead.\n",
      "  self.playlist_tracks_dataframe = pandas.concat([self.playlist_tracks_dataframe, dataframe], ignore_index=True)\n"
     ]
    },
    {
     "name": "stdout",
     "output_type": "stream",
     "text": [
      "Aggiunto ai preferiti\n",
      "Novembre 2022\n"
     ]
    },
    {
     "name": "stderr",
     "output_type": "stream",
     "text": [
      "s:\\Coding\\ProgettoSMM\\Progetto2\\group.py:43: FutureWarning: In a future version, object-dtype columns with all-bool values will not be included in reductions with bool_only=True. Explicitly cast to bool dtype instead.\n",
      "  self.playlist_tracks_dataframe = pandas.concat([self.playlist_tracks_dataframe, dataframe], ignore_index=True)\n",
      "s:\\Coding\\ProgettoSMM\\Progetto2\\group.py:43: FutureWarning: In a future version, object-dtype columns with all-bool values will not be included in reductions with bool_only=True. Explicitly cast to bool dtype instead.\n",
      "  self.playlist_tracks_dataframe = pandas.concat([self.playlist_tracks_dataframe, dataframe], ignore_index=True)\n"
     ]
    },
    {
     "name": "stdout",
     "output_type": "stream",
     "text": [
      "OTTOBRE 2022\n",
      "Time\n"
     ]
    },
    {
     "name": "stderr",
     "output_type": "stream",
     "text": [
      "s:\\Coding\\ProgettoSMM\\Progetto2\\group.py:43: FutureWarning: In a future version, object-dtype columns with all-bool values will not be included in reductions with bool_only=True. Explicitly cast to bool dtype instead.\n",
      "  self.playlist_tracks_dataframe = pandas.concat([self.playlist_tracks_dataframe, dataframe], ignore_index=True)\n",
      "s:\\Coding\\ProgettoSMM\\Progetto2\\group.py:43: FutureWarning: In a future version, object-dtype columns with all-bool values will not be included in reductions with bool_only=True. Explicitly cast to bool dtype instead.\n",
      "  self.playlist_tracks_dataframe = pandas.concat([self.playlist_tracks_dataframe, dataframe], ignore_index=True)\n"
     ]
    },
    {
     "name": "stdout",
     "output_type": "stream",
     "text": [
      "LUGLIO\n",
      "Estate 2022\n"
     ]
    },
    {
     "name": "stderr",
     "output_type": "stream",
     "text": [
      "s:\\Coding\\ProgettoSMM\\Progetto2\\group.py:43: FutureWarning: In a future version, object-dtype columns with all-bool values will not be included in reductions with bool_only=True. Explicitly cast to bool dtype instead.\n",
      "  self.playlist_tracks_dataframe = pandas.concat([self.playlist_tracks_dataframe, dataframe], ignore_index=True)\n"
     ]
    },
    {
     "name": "stdout",
     "output_type": "stream",
     "text": [
      "ROCK\n"
     ]
    },
    {
     "name": "stderr",
     "output_type": "stream",
     "text": [
      "s:\\Coding\\ProgettoSMM\\Progetto2\\group.py:43: FutureWarning: In a future version, object-dtype columns with all-bool values will not be included in reductions with bool_only=True. Explicitly cast to bool dtype instead.\n",
      "  self.playlist_tracks_dataframe = pandas.concat([self.playlist_tracks_dataframe, dataframe], ignore_index=True)\n",
      "s:\\Coding\\ProgettoSMM\\Progetto2\\group.py:43: FutureWarning: In a future version, object-dtype columns with all-bool values will not be included in reductions with bool_only=True. Explicitly cast to bool dtype instead.\n",
      "  self.playlist_tracks_dataframe = pandas.concat([self.playlist_tracks_dataframe, dataframe], ignore_index=True)\n"
     ]
    },
    {
     "name": "stdout",
     "output_type": "stream",
     "text": [
      "Dance90\n",
      "2022\n"
     ]
    },
    {
     "name": "stderr",
     "output_type": "stream",
     "text": [
      "s:\\Coding\\ProgettoSMM\\Progetto2\\group.py:43: FutureWarning: In a future version, object-dtype columns with all-bool values will not be included in reductions with bool_only=True. Explicitly cast to bool dtype instead.\n",
      "  self.playlist_tracks_dataframe = pandas.concat([self.playlist_tracks_dataframe, dataframe], ignore_index=True)\n",
      "s:\\Coding\\ProgettoSMM\\Progetto2\\group.py:43: FutureWarning: In a future version, object-dtype columns with all-bool values will not be included in reductions with bool_only=True. Explicitly cast to bool dtype instead.\n",
      "  self.playlist_tracks_dataframe = pandas.concat([self.playlist_tracks_dataframe, dataframe], ignore_index=True)\n"
     ]
    },
    {
     "name": "stdout",
     "output_type": "stream",
     "text": [
      "New playlist \n",
      "Song Japan 🫀🎋🍙🍡🗻🎐⛩\n"
     ]
    },
    {
     "name": "stderr",
     "output_type": "stream",
     "text": [
      "s:\\Coding\\ProgettoSMM\\Progetto2\\group.py:43: FutureWarning: In a future version, object-dtype columns with all-bool values will not be included in reductions with bool_only=True. Explicitly cast to bool dtype instead.\n",
      "  self.playlist_tracks_dataframe = pandas.concat([self.playlist_tracks_dataframe, dataframe], ignore_index=True)\n",
      "s:\\Coding\\ProgettoSMM\\Progetto2\\group.py:43: FutureWarning: In a future version, object-dtype columns with all-bool values will not be included in reductions with bool_only=True. Explicitly cast to bool dtype instead.\n",
      "  self.playlist_tracks_dataframe = pandas.concat([self.playlist_tracks_dataframe, dataframe], ignore_index=True)\n"
     ]
    },
    {
     "name": "stdout",
     "output_type": "stream",
     "text": [
      "Rock/Metal\n",
      "Eminem\n"
     ]
    },
    {
     "name": "stderr",
     "output_type": "stream",
     "text": [
      "s:\\Coding\\ProgettoSMM\\Progetto2\\group.py:43: FutureWarning: In a future version, object-dtype columns with all-bool values will not be included in reductions with bool_only=True. Explicitly cast to bool dtype instead.\n",
      "  self.playlist_tracks_dataframe = pandas.concat([self.playlist_tracks_dataframe, dataframe], ignore_index=True)\n",
      "s:\\Coding\\ProgettoSMM\\Progetto2\\group.py:43: FutureWarning: In a future version, object-dtype columns with all-bool values will not be included in reductions with bool_only=True. Explicitly cast to bool dtype instead.\n",
      "  self.playlist_tracks_dataframe = pandas.concat([self.playlist_tracks_dataframe, dataframe], ignore_index=True)\n"
     ]
    },
    {
     "name": "stdout",
     "output_type": "stream",
     "text": [
      "Pistol Whipping 'n' Hoes\n",
      "[G]old\n"
     ]
    },
    {
     "name": "stderr",
     "output_type": "stream",
     "text": [
      "s:\\Coding\\ProgettoSMM\\Progetto2\\group.py:43: FutureWarning: In a future version, object-dtype columns with all-bool values will not be included in reductions with bool_only=True. Explicitly cast to bool dtype instead.\n",
      "  self.playlist_tracks_dataframe = pandas.concat([self.playlist_tracks_dataframe, dataframe], ignore_index=True)\n",
      "s:\\Coding\\ProgettoSMM\\Progetto2\\group.py:43: FutureWarning: In a future version, object-dtype columns with all-bool values will not be included in reductions with bool_only=True. Explicitly cast to bool dtype instead.\n",
      "  self.playlist_tracks_dataframe = pandas.concat([self.playlist_tracks_dataframe, dataframe], ignore_index=True)\n"
     ]
    },
    {
     "name": "stdout",
     "output_type": "stream",
     "text": [
      "Chill and Memes\n",
      "Acoustic Mood\n",
      "🩹\n"
     ]
    },
    {
     "name": "stderr",
     "output_type": "stream",
     "text": [
      "s:\\Coding\\ProgettoSMM\\Progetto2\\group.py:43: FutureWarning: In a future version, object-dtype columns with all-bool values will not be included in reductions with bool_only=True. Explicitly cast to bool dtype instead.\n",
      "  self.playlist_tracks_dataframe = pandas.concat([self.playlist_tracks_dataframe, dataframe], ignore_index=True)\n",
      "s:\\Coding\\ProgettoSMM\\Progetto2\\group.py:43: FutureWarning: In a future version, object-dtype columns with all-bool values will not be included in reductions with bool_only=True. Explicitly cast to bool dtype instead.\n",
      "  self.playlist_tracks_dataframe = pandas.concat([self.playlist_tracks_dataframe, dataframe], ignore_index=True)\n"
     ]
    }
   ],
   "source": [
    "print('Per ogni playlist cerco le relative tracks')\n",
    "\n",
    "for index, playlist in group.get_playlist_dataframe().iterrows():\n",
    "    print(playlist.get('playlist_name'))\n",
    "\n",
    "    # Prendo le tracks in una playlist\n",
    "    results = sp.playlist_items(playlist_id=playlist.get('playlist_id'), limit=50)\n",
    "    \n",
    "    items_raw = json.dumps(results['items'])\n",
    "    items_json = json.loads(items_raw)\n",
    "    items_list = list(items_json)\n",
    "    \n",
    "    # Creo una lista temporanea delle playlist dell'utente corrente\n",
    "    playlist_tracks_list = list(map(lambda track: {\n",
    "        'user_id': playlist.get('user_id'),\n",
    "        'user_display_name': playlist.get('user_display_name'),\n",
    "        'playlist_id': playlist.get('playlist_id'),\n",
    "        'playlist_name': playlist.get('playlist_name'),\n",
    "        'album_id': track.get('track', {}).get('album', {}).get('id'),\n",
    "        'album_name': track.get('track', {}).get('album', {}).get('name'),\n",
    "        'album_release_date': track.get('track', {}).get('album', {}).get('release_date'),\n",
    "        'album_total_tracks': track.get('track', {}).get('album', {}).get('total_tracks'),\n",
    "        'artist_id': track.get('track', {}).get('artists', {})[0].get('id'),\n",
    "        'artist_name': track.get('track', {}).get('artists', {})[0].get('name'),\n",
    "        'track_disc_number': track.get('track', {}).get('disc_number'),\n",
    "        'track_duration_ms': track.get('track', {}).get('duration_ms'),\n",
    "        'track_explicit': track.get('track', {}).get('explicit'),\n",
    "        'track_id': track.get('track', {}).get('id'),\n",
    "        'track_name': track.get('track', {}).get('name'),\n",
    "        'track_popularity': track.get('track', {}).get('popularity')\n",
    "    }, items_list))\n",
    "\n",
    "    # Creo un dataframe con la playlist dell'utente corrente\n",
    "    playlist_tracks_dataframe = pandas.DataFrame(playlist_tracks_list)\n",
    "\n",
    "    # Concateno con il dataframe finale\n",
    "    group.append_to_playlist_tracks_dataframe(playlist_tracks_dataframe)\n"
   ]
  },
  {
   "cell_type": "code",
   "execution_count": 7,
   "metadata": {},
   "outputs": [],
   "source": [
    "main.export_to_csv('dist/tracks.csv', group.get_playlist_tracks_dataframe())\n"
   ]
  },
  {
   "attachments": {},
   "cell_type": "markdown",
   "metadata": {},
   "source": [
    "## Analisi dei dati\n",
    "\n",
    "testo"
   ]
  },
  {
   "attachments": {},
   "cell_type": "markdown",
   "metadata": {},
   "source": [
    "\n",
    "### Collaborative filtering"
   ]
  },
  {
   "attachments": {},
   "cell_type": "markdown",
   "metadata": {},
   "source": [
    "Tra i **sistemi di raccomandazione** è noto il metodo **Collaborative filtering** per formulare raccomandazioni agli utenti in base al loro comportamento passato e al comportamento di utenti simili.<br>\n",
    "\n",
    "Il sistema utilizza per identificare modelli e somiglianze tra loro, quindi utilizza questi modelli per formulare raccomandazioni ai nuoviutenti.<br>\n",
    "<br>\n",
    "Ci sono due tipi principali di Collaborative filtering:\n",
    "\n",
    "- **User-based CF**: Questo metodo esamina il comportamento passato di utenti simili per formulare raccomandazioni a un nuovo utente. Ad esempio, se un utente A ha preferenze simili a quelle dell'utente B e l'utente B ha valutato altamente un determinato elemento, il sistema consiglierebbe quell'elemento all'utente A.\n",
    "\n",
    "- **Item-based CF**: Questo metodo esamina il comportamento passato degli utenti rispetto a elementi specifici. Ad esempio, se un utente A ha valutato l'elemento X altamente e l'elemento Y altamente, e un altro utente B ha anche valutato l'elemento X altamente, il sistema consiglierebbe l'elemento Y all'utente B.\n",
    "\n",
    "<br>\n",
    "Per implementare un sistema CF, il primo passo è raccogliere dati sul comportamento passato degli utenti. Questi dati vengono quindi utilizzati per creare una matrice di elementi utente che rappresenta le valutazioni che gli utenti hanno dato agli elementi. Successivamente, il sistema utilizza una misura di somiglianza (come la somiglianza coseno) per identificare utenti o elementi simili. Infine, il sistema utilizza gli utenti o gli elementi simili identificati per formulare raccomandazioni ai nuovi utenti.<br>\n",
    "<br>\n",
    "È importante notare che il filtro collaborativo è una tecnica basata sulla memoria, significa che l'algoritmo deve avere accesso a tutte le interazioni utente-elemento per generare raccomandazioni, ecco perché non è adatto per set di dati di grandi dimensioni. Inoltre, può essere influenzato dal problema del cold-start, significa che l'algoritmo non può raccomandare elementi ai nuovi utenti che non hanno ancora interagito con il sistema.<br>\n",
    "<br>\n",
    "Inoltre, il filtro collaborativo può anche essere classificato in base alla disponibilità di feedback:\n",
    "\n",
    "- **Explicit feedback**: Questo tipo di feedback si ottiene attraverso valutazioni esplicite, ad esempio, un utente che valuta un film da 1 a 5 stelle.\n",
    "- **Implicit feedback**: Questo tipo di feedback si ottiene attraverso azioni implicite, ad esempio un utente che guarda un film o ascolta un brano. Il feedback implicito può essere più difficile da lavorare rispetto al feedback esplicito, in quanto può essere rumoroso e scarso.\n",
    "\n",
    "<br>\n",
    "Infine, è anche importante ricordare che i sistemi CF sono spesso combinati con altre tecniche, come il Content-based filtering, per superare i limiti e migliorare la qualità delle raccomandazioni."
   ]
  },
  {
   "cell_type": "code",
   "execution_count": null,
   "metadata": {},
   "outputs": [
    {
     "ename": "ModuleNotFoundError",
     "evalue": "No module named 'sklearn'",
     "output_type": "error",
     "traceback": [
      "\u001b[1;31m---------------------------------------------------------------------------\u001b[0m",
      "\u001b[1;31mModuleNotFoundError\u001b[0m                       Traceback (most recent call last)",
      "Cell \u001b[1;32mIn[8], line 2\u001b[0m\n\u001b[0;32m      1\u001b[0m \u001b[39mimport\u001b[39;00m \u001b[39mpandas\u001b[39;00m \u001b[39mas\u001b[39;00m \u001b[39mpd\u001b[39;00m\n\u001b[1;32m----> 2\u001b[0m \u001b[39mfrom\u001b[39;00m \u001b[39msklearn\u001b[39;00m\u001b[39m.\u001b[39;00m\u001b[39mmetrics\u001b[39;00m\u001b[39m.\u001b[39;00m\u001b[39mpairwise\u001b[39;00m \u001b[39mimport\u001b[39;00m cosine_similarity\n\u001b[0;32m      4\u001b[0m \u001b[39m# read the user-item interactions dataset\u001b[39;00m\n\u001b[0;32m      5\u001b[0m df \u001b[39m=\u001b[39m pd\u001b[39m.\u001b[39mread_csv(\u001b[39m'\u001b[39m\u001b[39muser_item_interactions.csv\u001b[39m\u001b[39m'\u001b[39m)\n",
      "\u001b[1;31mModuleNotFoundError\u001b[0m: No module named 'sklearn'"
     ]
    }
   ],
   "source": [
    "import pandas as pd\n",
    "from sklearn.metrics.pairwise import cosine_similarity\n",
    "\n",
    "# read the user-item interactions dataset\n",
    "df = pd.read_csv('user_item_interactions.csv')\n",
    "\n",
    "# create a pivot table of the interactions\n",
    "user_item_matrix = df.pivot_table(index='user_id', columns='item_id', values='rating')\n",
    "\n",
    "# compute the cosine similarity matrix\n",
    "cosine_sim = cosine_similarity(user_item_matrix)\n",
    "\n",
    "# create a mapping of user_id to index in the similarity matrix\n",
    "user_index_map = {user_id: index for index, user_id in enumerate(user_item_matrix.index)}\n",
    "\n",
    "# function to get the top k similar users\n",
    "def get_similar_users(user_id, k=5):\n",
    "    user_index = user_index_map[user_id]\n",
    "    similar_users = list(enumerate(cosine_sim[user_index]))\n",
    "    similar_users = sorted(similar_users, key=lambda x: x[1], reverse=True)\n",
    "    similar_users = similar_users[1:k+1]\n",
    "    return similar_users\n",
    "\n",
    "# function to make recommendations to a user\n",
    "def recommend_items(user_id, k=5):\n",
    "    similar_users = get_similar_users(user_id, k)\n",
    "    similar_users_index = [index for index, similarity in similar_users]\n",
    "    similar_users_ratings = user_item_matrix.iloc[similar_users_index]\n",
    "    recommended_items = similar_users_ratings.mean().sort_values(ascending=False)\n",
    "    return recommended_items\n",
    "\n",
    "# test the recommendation function\n",
    "user_id = 123\n",
    "print(recommend_items(user_id))"
   ]
  },
  {
   "attachments": {},
   "cell_type": "markdown",
   "metadata": {},
   "source": [
    "In this example, the **pandas** library is used to read the user-item interactions dataset and create a pivot table. The **sklearn** library is used to compute the cosine similarity between users.\n",
    "The function **get_similar_users** takes a user_id and the number of similar users to return as input and returns a list of similar users based on the cosine similarity.\n",
    "The function **recommend_items** takes a user_id and the number of similar users to consider as input and returns a list of recommended items based on the mean ratings of the similar users.\n",
    "You can also add or use other similarity measures like Jaccard Similarity, Pearson Correlation, etc\n",
    "It's important to note that this is a basic example, in practice, you might need to handle missing values, normalize the ratings, and use other techniques like cross-validation to evaluate the model performance."
   ]
  },
  {
   "attachments": {},
   "cell_type": "markdown",
   "metadata": {},
   "source": [
    "### Content-based filtering"
   ]
  },
  {
   "attachments": {},
   "cell_type": "markdown",
   "metadata": {},
   "source": [
    "Il **Content-based filtering** è un sistema di raccomandazione è un metodo per formulare raccomandazioni agli utenti in base alle caratteristiche o agli attributi degli elementi a cui gli utenti hanno mostrato interesse. Il sistema utilizza questi attributi per identificare elementi simili e quindi formula raccomandazioni agli utenti in base alla somiglianza.<br>\n",
    "<br>\n",
    "L'idea generale alla base di questo metodo è che se a un utente piace un elemento, gli piaceranno anche elementi simili. Per implementare un sistema di filtraggio basato sul contenuto, il primo passo è estrarre feature o attributi dagli elementi. Queste caratteristiche possono essere tutto ciò che caratterizza l'oggetto, come il suo genere, regista, attori, ecc. Successivamente, viene utilizzata una misura di somiglianza, come la somiglianza del coseno, per confrontare i vettori delle caratteristiche degli elementi per identificare elementi simili. Infine, il sistema utilizza gli elementi simili identificati per formulare raccomandazioni agli utenti.<br>\n",
    "<br>\n",
    "Questo modello può essere diviso in due tipi principali:\n",
    "- **Item-content based**: Questo metodo utilizza le caratteristiche dell'elemento per consigliare elementi simili all'utente. Ad esempio, se a un utente piace un film che è classificato come \"commedia\" e ha \"Adam Sandler\" come attore, il sistema consiglierà altri film che sono anche classificati come \"commedia\" e hanno \"Adam Sandler\" come attore.\n",
    "- **User-content based**: Questo metodo utilizza le funzionalità dell'utente per consigliare elementi simili alle preferenze dell'utente. Ad esempio, se a un utente piacciono i generi \"commedia\" e \"azione\", il sistema consiglierà elementi che provengono da questi generi.\n",
    "\n",
    "<br>\n",
    "È importante notare che il filtraggio basato sui contenuti è limitato dalla qualità e dalla quantità delle caratteristiche dell'articolo, se le caratteristiche non sono informative o pertinenti, le raccomandazioni non saranno accurate. Inoltre, non è adatto a raccomandare nuovi articoli, deve avere le caratteristiche dell'articolo nel database. La combinazione del filtraggio basato sui contenuti con altre tecniche come il Collaborative filtering può superare questi limiti.<br>\n",
    "<br>\n",
    "\n",
    "Il metodo **Content-based filtering** prevede in genere i seguenti passaggi:\n",
    "- **Raccogliere e preelaborare le caratteristiche dell'oggetto**: il primo passo è raccogliere le caratteristiche degli oggetti, come il genere, il regista, gli attori, ecc. e preelaborarle per prepararle per l'analisi. Questo passaggio può includere la pulizia dei dati, la rimozione dei valori mancanti e la conversione di feature categoriche in valori numerici.\n",
    "- **Creare un vettore di feature per ogni elemento**: una volta che le feature sono preelaborate, il passo successivo consiste nel creare un vettore di feature per ogni elemento. Questo vettore rappresenta le caratteristiche dell'elemento in forma numerica e viene utilizzato per confrontare la somiglianza tra gli elementi.\n",
    "- **Calcolare la somiglianza tra gli elementi**: dopo aver creato i vettori di feature, il sistema utilizza una misura di somiglianza come la somiglianza del coseno, la somiglianza di Jaccard o la distanza euclidea per calcolare la somiglianza tra gli elementi.\n",
    "- **Fare raccomandazioni**: una volta calcolata la somiglianza tra gli elementi, il sistema può formulare raccomandazioni agli utenti in base alla somiglianza. Ad esempio, se un utente ha mostrato interesse per un elemento specifico, il sistema può raccomandare altri elementi simili all'utente.\n",
    "- **Rivalutare e aggiornare il modello**: il passo finale è rivalutare le prestazioni del modello e aggiornarlo se necessario. Questo passaggio può includere l'aggiunta di nuovi elementi, la rimozione di elementi irrilevanti e la regolazione del peso delle feature.\n",
    "\n",
    "<br>\n",
    "Vale la pena notare che il metodo di filtraggio basato sui contenuti può essere migliorato includendo informazioni aggiuntive, come le informazioni demografiche dell'utente, o integrandolo con altre tecniche di raccomandazione, come il filtraggio collaborativo o il filtraggio ibrido.<br>\n",
    "<br>\n",
    "Inoltre, mentre il filtraggio basato sul contenuto è adatto per raccomandare elementi agli utenti con una storia di interazioni, non è bravo a raccomandare elementi a nuovi utenti senza alcuna cronologia, a questo scopo, può essere utilizzata una tecnica di filtraggio ibrido che combina i punti di forza sia del filtraggio basato sui contenuti che del filtraggio collaborativo."
   ]
  },
  {
   "cell_type": "code",
   "execution_count": null,
   "metadata": {},
   "outputs": [],
   "source": [
    "import pandas as pd\n",
    "from sklearn.metrics.pairwise import cosine_similarity\n",
    "\n",
    "# read the item dataset\n",
    "df = pd.read_csv('items.csv')\n",
    "\n",
    "# create a feature vector for each item\n",
    "df['feature_vector'] = df[['feature1', 'feature2', 'feature3']].apply(lambda row: [row['feature1'], row['feature2'], row['feature3']], axis=1)\n",
    "\n",
    "# compute the cosine similarity matrix\n",
    "cosine_sim = cosine_similarity(df['feature_vector'])\n",
    "\n",
    "# function to get the top k similar items\n",
    "def get_similar_items(item_id, k=5):\n",
    "    item_index = df[df['item_id'] == item_id].index[0]\n",
    "    similar_items = list(enumerate(cosine_sim[item_index]))\n",
    "    similar_items = sorted(similar_items, key=lambda x: x[1], reverse=True)\n",
    "    similar_items = similar_items[1:k+1]\n",
    "    return similar_items\n",
    "\n",
    "# function to make recommendations to a user\n",
    "def recommend_items(user_id, k=5):\n",
    "    user_items = df[df['user_id'] == user_id]['item_id']\n",
    "    recommended_items = []\n",
    "    for item_id in user_items:\n",
    "        similar_items = get_similar_items(item_id, k)\n",
    "        recommended_items += [item_index for item_index, similarity in similar_items]\n",
    "    recommended_items = df.iloc[recommended_items]\n",
    "    return recommended_items\n",
    "\n",
    "# test the recommendation function\n",
    "user_id = 123\n",
    "print(recommend_items(user_id))"
   ]
  },
  {
   "attachments": {},
   "cell_type": "markdown",
   "metadata": {},
   "source": [
    "In this example, the **pandas** library is used to read the item dataset and create a feature vector for each item. The **sklearn** library is used to compute the cosine similarity between items.\n",
    "The function **get_similar_items** takes an item_id and the number of similar items to return as input and returns a list of similar items based on the cosine similarity.\n",
    "The function **recommend_items** takes a user_id and the number of similar items to consider as input and returns a list of recommended items based on the user's items.\n",
    "You can also add or use other similarity measures like Jaccard Similarity, Pearson Correlation, etc..<br>\n",
    "<br>\n",
    "It's important to note that this is a basic example, in practice, you might need to handle missing values, normalize the ratings, and use other techniques like cross-validation to evaluate the model performance.\n",
    "Also, this implementation is item-content based filtering, you can also implement user-content based filtering by using the user's characteristics in the feature vector instead of the items."
   ]
  }
 ],
 "metadata": {
  "kernelspec": {
   "display_name": "Python 3",
   "language": "python",
   "name": "python3"
  },
  "language_info": {
   "codemirror_mode": {
    "name": "ipython",
    "version": 3
   },
   "file_extension": ".py",
   "mimetype": "text/x-python",
   "name": "python",
   "nbconvert_exporter": "python",
   "pygments_lexer": "ipython3",
   "version": "3.11.1"
  },
  "orig_nbformat": 4,
  "vscode": {
   "interpreter": {
    "hash": "f5b1cb6dc680b3d6bf29b5af02061c0a15fd523b21038e9be2963a520c148ee2"
   }
  }
 },
 "nbformat": 4,
 "nbformat_minor": 2
}
