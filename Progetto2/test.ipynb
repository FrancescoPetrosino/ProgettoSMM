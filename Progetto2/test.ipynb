{
 "cells": [
  {
   "cell_type": "code",
   "execution_count": 54,
   "metadata": {},
   "outputs": [],
   "source": [
    "# Imports libraries\n",
    "\n",
    "import time\n",
    "import pandas\n",
    "import json\n",
    "import spotipy\n",
    "from group import Group\n",
    "from spotipy.oauth2 import SpotifyOAuth\n",
    "from user import User\n",
    "\n",
    "import main"
   ]
  },
  {
   "cell_type": "code",
   "execution_count": 2,
   "metadata": {},
   "outputs": [],
   "source": [
    "# Sets variables\n",
    "\n",
    "# client_id = \"YOUR_CLIENT_ID\"\n",
    "# client_secret = \"YOUR_CLIENT_SECRET\"\n",
    "# redirect_uri = \"YOUR_REDIRECT_URI\"\n",
    "client_id = \"b48898f561ab4533b7396439e6610ff4\"\n",
    "client_secret = \"bbf061893e8f4ff8924eed41c39c6a90\"\n",
    "redirect_uri = \"http://localhost:8080\"\n",
    "\n",
    "scope = [\n",
    "\t\"user-library-read\",\n",
    "\t\"user-top-read\",\n",
    "\t\"user-follow-read\",\n",
    "\t\"user-read-private\",\n",
    "\t\"user-read-recently-played\",\n",
    "\t\"user-read-playback-state\",\n",
    "\t\"user-modify-playback-state\",\n",
    "\t\"user-read-playback-position\",\n",
    "\t\"streaming\",\n",
    "\t\"app-remote-control\",\n",
    "\t\"playlist-read-private\",\n",
    "\t\"playlist-modify-private\",\n",
    "\t\"playlist-modify-public\",\n",
    "\t\"playlist-read-collaborative\"\n",
    "]\n",
    "\n",
    "# Authenticates\n",
    "\n",
    "auth_manager = SpotifyOAuth(\n",
    "\tclient_id=client_id,\n",
    "\tclient_secret=client_secret,\n",
    "\tredirect_uri=redirect_uri,\n",
    "\tscope=scope\n",
    ")\n",
    "\n",
    "sp = spotipy.Spotify(auth_manager=auth_manager)"
   ]
  },
  {
   "cell_type": "code",
   "execution_count": 3,
   "metadata": {},
   "outputs": [
    {
     "name": "stdout",
     "output_type": "stream",
     "text": [
      "Creo il gruppo...\n",
      "L'username di Francesco Petrosino è 21ktslj6lkgx6wswmfwu5cwuq\n",
      "L'username di Ale è rcin690qmgjd32d088agw6xyr\n",
      "L'username di Philip Giovanni Emmer è 1171706601\n",
      "L'username di Renato è 6ua7zipvurza24psy4h2rvumy\n",
      "L'username di Elio Pampolini è 21vfi35alpob2afo2vtoybthi\n",
      "L'username di Scalòppina è 392q67hc38jnsgjg2hqrjyuhc\n"
     ]
    }
   ],
   "source": [
    "# Defines a list of users\n",
    "\n",
    "# Static list\n",
    "\n",
    "group = Group()\n",
    "\n",
    "id_list = [\n",
    "\t'21ktslj6lkgx6wswmfwu5cwuq',\n",
    "\t'rcin690qmgjd32d088agw6xyr',\n",
    "\t'1171706601',\n",
    "\t'6ua7zipvurza24psy4h2rvumy',\n",
    "\t'21vfi35alpob2afo2vtoybthi',\n",
    "\t'392q67hc38jnsgjg2hqrjyuhc'\n",
    "]\n",
    "\n",
    "print(\"Creo il gruppo...\")\n",
    "\n",
    "len = len(id_list)\n",
    "\n",
    "for i, id in enumerate(id_list):\n",
    "\tresult = sp.user(id)\n",
    "\n",
    "\tuser = User(result)\n",
    "\tgroup.append(user)\n",
    "\t\n",
    "\tuser.print()\n",
    "\n",
    "\tif i+1 < len: \n",
    "\t\ttime.sleep(5)"
   ]
  },
  {
   "cell_type": "code",
   "execution_count": 37,
   "metadata": {},
   "outputs": [
    {
     "name": "stdout",
     "output_type": "stream",
     "text": [
      "Prendo le playlists dal server...\n",
      "Francesco Petrosino\n",
      "Ale\n",
      "Philip Giovanni Emmer\n",
      "Renato\n",
      "Elio Pampolini\n",
      "Scalòppina\n"
     ]
    }
   ],
   "source": [
    "print(\"Prendo le playlists dal server...\")\n",
    "\n",
    "len = group.count()\n",
    "\n",
    "for i in range(len):\n",
    "\tuser = group.get_from_list(i)\n",
    "\n",
    "\tprint(user.display_name)\n",
    "\n",
    "\tresults = sp.user_playlists(user=user.user_id, limit=10)\n",
    "\tuser.set_following_playlists(results['items'])\n",
    "\n",
    "\tif i+1 < len: \n",
    "\t\ttime.sleep(5)"
   ]
  },
  {
   "cell_type": "code",
   "execution_count": 55,
   "metadata": {},
   "outputs": [
    {
     "name": "stdout",
     "output_type": "stream",
     "text": [
      "Creo un dataframe con le playlists...\n"
     ]
    },
    {
     "ename": "AttributeError",
     "evalue": "'Group' object has no attribute 'append_to_playlist_dataframe'",
     "output_type": "error",
     "traceback": [
      "\u001b[1;31m---------------------------------------------------------------------------\u001b[0m",
      "\u001b[1;31mAttributeError\u001b[0m                            Traceback (most recent call last)",
      "Cell \u001b[1;32mIn[55], line 24\u001b[0m\n\u001b[0;32m     21\u001b[0m playlist_user_dataframe \u001b[39m=\u001b[39m pandas\u001b[39m.\u001b[39mDataFrame(playlist_list)\n\u001b[0;32m     23\u001b[0m \u001b[39m# Concateno con il dataframe finale\u001b[39;00m\n\u001b[1;32m---> 24\u001b[0m group\u001b[39m.\u001b[39;49mappend_to_playlist_dataframe(playlist_user_dataframe)\n",
      "\u001b[1;31mAttributeError\u001b[0m: 'Group' object has no attribute 'append_to_playlist_dataframe'"
     ]
    }
   ],
   "source": [
    "print(\"Creo un dataframe con le playlists...\")\n",
    "\n",
    "len = group.count()\n",
    "\n",
    "for i in range(len):\n",
    "\t# Prendo l'utente corrente\n",
    "\tuser = group.get_from_list(i)\n",
    "\n",
    "\t# Creo una lista temporanea delle playlist dell'utente corrente\n",
    "\tplaylist_list = list(map(lambda p: {\n",
    "\t\t'user_id': user.user_id,\n",
    "\t\t'id': p.get('id'),\n",
    "\t\t'name': p.get('name'),\n",
    "\t\t'description': p.get('description'),\n",
    "\t\t'uri': p.get('uri'),\n",
    "\t\t'public': p.get('public'),\n",
    "\t\t'total_tracks': p.get('tracks').get('total')\n",
    "\t}, user.get_following_playlists()))\n",
    "\n",
    "\t# Creo un dataframe con la playlist dell'utente corrente\n",
    "\tplaylist_user_dataframe = pandas.DataFrame(playlist_list)\n",
    "\n",
    "\t# Concateno con il dataframe finale\n",
    "\tgroup.append_to_playlist_dataframe(playlist_user_dataframe)\n"
   ]
  },
  {
   "cell_type": "code",
   "execution_count": 65,
   "metadata": {},
   "outputs": [
    {
     "name": "stdout",
     "output_type": "stream",
     "text": [
      "Per ogni playlist cerco le relative tracks\n",
      "Ale + Francesco\n",
      "{'display_name': 'Scalòppina', 'external_urls': {'spotify': 'https://open.spotify.com/user/392q67hc38jnsgjg2hqrjyuhc'}, 'followers': {'href': None, 'total': 6}, 'href': 'https://api.spotify.com/v1/users/392q67hc38jnsgjg2hqrjyuhc', 'id': '392q67hc38jnsgjg2hqrjyuhc', 'images': [{'height': None, 'url': 'https://i.scdn.co/image/ab6775700000ee8503357c9f95e84e66dc970a06', 'width': None}], 'type': 'user', 'uri': 'spotify:user:392q67hc38jnsgjg2hqrjyuhc'} <class 'dict'>\n",
      "Dance Party\n",
      "{'display_name': 'Scalòppina', 'external_urls': {'spotify': 'https://open.spotify.com/user/392q67hc38jnsgjg2hqrjyuhc'}, 'followers': {'href': None, 'total': 6}, 'href': 'https://api.spotify.com/v1/users/392q67hc38jnsgjg2hqrjyuhc', 'id': '392q67hc38jnsgjg2hqrjyuhc', 'images': [{'height': None, 'url': 'https://i.scdn.co/image/ab6775700000ee8503357c9f95e84e66dc970a06', 'width': None}], 'type': 'user', 'uri': 'spotify:user:392q67hc38jnsgjg2hqrjyuhc'} <class 'dict'>\n",
      "Car\n",
      "{'display_name': 'Scalòppina', 'external_urls': {'spotify': 'https://open.spotify.com/user/392q67hc38jnsgjg2hqrjyuhc'}, 'followers': {'href': None, 'total': 6}, 'href': 'https://api.spotify.com/v1/users/392q67hc38jnsgjg2hqrjyuhc', 'id': '392q67hc38jnsgjg2hqrjyuhc', 'images': [{'height': None, 'url': 'https://i.scdn.co/image/ab6775700000ee8503357c9f95e84e66dc970a06', 'width': None}], 'type': 'user', 'uri': 'spotify:user:392q67hc38jnsgjg2hqrjyuhc'} <class 'dict'>\n",
      "Guitar\n",
      "{'display_name': 'Scalòppina', 'external_urls': {'spotify': 'https://open.spotify.com/user/392q67hc38jnsgjg2hqrjyuhc'}, 'followers': {'href': None, 'total': 6}, 'href': 'https://api.spotify.com/v1/users/392q67hc38jnsgjg2hqrjyuhc', 'id': '392q67hc38jnsgjg2hqrjyuhc', 'images': [{'height': None, 'url': 'https://i.scdn.co/image/ab6775700000ee8503357c9f95e84e66dc970a06', 'width': None}], 'type': 'user', 'uri': 'spotify:user:392q67hc38jnsgjg2hqrjyuhc'} <class 'dict'>\n",
      "2021\n",
      "{'display_name': 'Scalòppina', 'external_urls': {'spotify': 'https://open.spotify.com/user/392q67hc38jnsgjg2hqrjyuhc'}, 'followers': {'href': None, 'total': 6}, 'href': 'https://api.spotify.com/v1/users/392q67hc38jnsgjg2hqrjyuhc', 'id': '392q67hc38jnsgjg2hqrjyuhc', 'images': [{'height': None, 'url': 'https://i.scdn.co/image/ab6775700000ee8503357c9f95e84e66dc970a06', 'width': None}], 'type': 'user', 'uri': 'spotify:user:392q67hc38jnsgjg2hqrjyuhc'} <class 'dict'>\n",
      "Dance Fruits Music 🍉 dance music to workout, game & party to\n",
      "{'display_name': 'Scalòppina', 'external_urls': {'spotify': 'https://open.spotify.com/user/392q67hc38jnsgjg2hqrjyuhc'}, 'followers': {'href': None, 'total': 6}, 'href': 'https://api.spotify.com/v1/users/392q67hc38jnsgjg2hqrjyuhc', 'id': '392q67hc38jnsgjg2hqrjyuhc', 'images': [{'height': None, 'url': 'https://i.scdn.co/image/ab6775700000ee8503357c9f95e84e66dc970a06', 'width': None}], 'type': 'user', 'uri': 'spotify:user:392q67hc38jnsgjg2hqrjyuhc'} <class 'dict'>\n",
      "Puglia\n",
      "{'display_name': 'Scalòppina', 'external_urls': {'spotify': 'https://open.spotify.com/user/392q67hc38jnsgjg2hqrjyuhc'}, 'followers': {'href': None, 'total': 6}, 'href': 'https://api.spotify.com/v1/users/392q67hc38jnsgjg2hqrjyuhc', 'id': '392q67hc38jnsgjg2hqrjyuhc', 'images': [{'height': None, 'url': 'https://i.scdn.co/image/ab6775700000ee8503357c9f95e84e66dc970a06', 'width': None}], 'type': 'user', 'uri': 'spotify:user:392q67hc38jnsgjg2hqrjyuhc'} <class 'dict'>\n",
      "- MUSIC (R) \n",
      "{'display_name': 'Scalòppina', 'external_urls': {'spotify': 'https://open.spotify.com/user/392q67hc38jnsgjg2hqrjyuhc'}, 'followers': {'href': None, 'total': 6}, 'href': 'https://api.spotify.com/v1/users/392q67hc38jnsgjg2hqrjyuhc', 'id': '392q67hc38jnsgjg2hqrjyuhc', 'images': [{'height': None, 'url': 'https://i.scdn.co/image/ab6775700000ee8503357c9f95e84e66dc970a06', 'width': None}], 'type': 'user', 'uri': 'spotify:user:392q67hc38jnsgjg2hqrjyuhc'} <class 'dict'>\n",
      "2020 Look up\n",
      "{'display_name': 'Scalòppina', 'external_urls': {'spotify': 'https://open.spotify.com/user/392q67hc38jnsgjg2hqrjyuhc'}, 'followers': {'href': None, 'total': 6}, 'href': 'https://api.spotify.com/v1/users/392q67hc38jnsgjg2hqrjyuhc', 'id': '392q67hc38jnsgjg2hqrjyuhc', 'images': [{'height': None, 'url': 'https://i.scdn.co/image/ab6775700000ee8503357c9f95e84e66dc970a06', 'width': None}], 'type': 'user', 'uri': 'spotify:user:392q67hc38jnsgjg2hqrjyuhc'} <class 'dict'>\n",
      "Relax\n",
      "{'display_name': 'Scalòppina', 'external_urls': {'spotify': 'https://open.spotify.com/user/392q67hc38jnsgjg2hqrjyuhc'}, 'followers': {'href': None, 'total': 6}, 'href': 'https://api.spotify.com/v1/users/392q67hc38jnsgjg2hqrjyuhc', 'id': '392q67hc38jnsgjg2hqrjyuhc', 'images': [{'height': None, 'url': 'https://i.scdn.co/image/ab6775700000ee8503357c9f95e84e66dc970a06', 'width': None}], 'type': 'user', 'uri': 'spotify:user:392q67hc38jnsgjg2hqrjyuhc'} <class 'dict'>\n",
      "el latino\n",
      "{'display_name': 'Scalòppina', 'external_urls': {'spotify': 'https://open.spotify.com/user/392q67hc38jnsgjg2hqrjyuhc'}, 'followers': {'href': None, 'total': 6}, 'href': 'https://api.spotify.com/v1/users/392q67hc38jnsgjg2hqrjyuhc', 'id': '392q67hc38jnsgjg2hqrjyuhc', 'images': [{'height': None, 'url': 'https://i.scdn.co/image/ab6775700000ee8503357c9f95e84e66dc970a06', 'width': None}], 'type': 'user', 'uri': 'spotify:user:392q67hc38jnsgjg2hqrjyuhc'} <class 'dict'>\n",
      "Artemis\n",
      "{'display_name': 'Scalòppina', 'external_urls': {'spotify': 'https://open.spotify.com/user/392q67hc38jnsgjg2hqrjyuhc'}, 'followers': {'href': None, 'total': 6}, 'href': 'https://api.spotify.com/v1/users/392q67hc38jnsgjg2hqrjyuhc', 'id': '392q67hc38jnsgjg2hqrjyuhc', 'images': [{'height': None, 'url': 'https://i.scdn.co/image/ab6775700000ee8503357c9f95e84e66dc970a06', 'width': None}], 'type': 'user', 'uri': 'spotify:user:392q67hc38jnsgjg2hqrjyuhc'} <class 'dict'>\n",
      "Macchina\n",
      "{'display_name': 'Scalòppina', 'external_urls': {'spotify': 'https://open.spotify.com/user/392q67hc38jnsgjg2hqrjyuhc'}, 'followers': {'href': None, 'total': 6}, 'href': 'https://api.spotify.com/v1/users/392q67hc38jnsgjg2hqrjyuhc', 'id': '392q67hc38jnsgjg2hqrjyuhc', 'images': [{'height': None, 'url': 'https://i.scdn.co/image/ab6775700000ee8503357c9f95e84e66dc970a06', 'width': None}], 'type': 'user', 'uri': 'spotify:user:392q67hc38jnsgjg2hqrjyuhc'} <class 'dict'>\n",
      "Indie pier\n",
      "{'display_name': 'Scalòppina', 'external_urls': {'spotify': 'https://open.spotify.com/user/392q67hc38jnsgjg2hqrjyuhc'}, 'followers': {'href': None, 'total': 6}, 'href': 'https://api.spotify.com/v1/users/392q67hc38jnsgjg2hqrjyuhc', 'id': '392q67hc38jnsgjg2hqrjyuhc', 'images': [{'height': None, 'url': 'https://i.scdn.co/image/ab6775700000ee8503357c9f95e84e66dc970a06', 'width': None}], 'type': 'user', 'uri': 'spotify:user:392q67hc38jnsgjg2hqrjyuhc'} <class 'dict'>\n",
      "Allenamento\n",
      "{'display_name': 'Scalòppina', 'external_urls': {'spotify': 'https://open.spotify.com/user/392q67hc38jnsgjg2hqrjyuhc'}, 'followers': {'href': None, 'total': 6}, 'href': 'https://api.spotify.com/v1/users/392q67hc38jnsgjg2hqrjyuhc', 'id': '392q67hc38jnsgjg2hqrjyuhc', 'images': [{'height': None, 'url': 'https://i.scdn.co/image/ab6775700000ee8503357c9f95e84e66dc970a06', 'width': None}], 'type': 'user', 'uri': 'spotify:user:392q67hc38jnsgjg2hqrjyuhc'} <class 'dict'>\n",
      "Alan\n",
      "{'display_name': 'Scalòppina', 'external_urls': {'spotify': 'https://open.spotify.com/user/392q67hc38jnsgjg2hqrjyuhc'}, 'followers': {'href': None, 'total': 6}, 'href': 'https://api.spotify.com/v1/users/392q67hc38jnsgjg2hqrjyuhc', 'id': '392q67hc38jnsgjg2hqrjyuhc', 'images': [{'height': None, 'url': 'https://i.scdn.co/image/ab6775700000ee8503357c9f95e84e66dc970a06', 'width': None}], 'type': 'user', 'uri': 'spotify:user:392q67hc38jnsgjg2hqrjyuhc'} <class 'dict'>\n"
     ]
    },
    {
     "ename": "",
     "evalue": "",
     "output_type": "error",
     "traceback": [
      "\u001b[1;31mThe Kernel crashed while executing code in the the current cell or a previous cell. Please review the code in the cell(s) to identify a possible cause of the failure. Click <a href='https://aka.ms/vscodeJupyterKernelCrash'>here</a> for more info. View Jupyter <a href='command:jupyter.viewOutput'>log</a> for further details."
     ]
    }
   ],
   "source": [
    "print('Per ogni playlist cerco le relative tracks')\n",
    "\n",
    "# for index, playlist in group.get_playlist_dataframe.iterrows():\n",
    "for index, playlist in playlist_dataframe.iterrows():\n",
    "    print(playlist.get('name'))\n",
    "\n",
    "    # Prendo le tracks in una playlist\n",
    "    results = sp.playlist_tracks(playlist.get('id'), limit=10)\n",
    "    print(result, type(result))\n",
    "    exit()\n"
   ]
  }
 ],
 "metadata": {
  "kernelspec": {
   "display_name": "Python 3",
   "language": "python",
   "name": "python3"
  },
  "language_info": {
   "codemirror_mode": {
    "name": "ipython",
    "version": 3
   },
   "file_extension": ".py",
   "mimetype": "text/x-python",
   "name": "python",
   "nbconvert_exporter": "python",
   "pygments_lexer": "ipython3",
   "version": "3.11.1"
  },
  "orig_nbformat": 4,
  "vscode": {
   "interpreter": {
    "hash": "f5b1cb6dc680b3d6bf29b5af02061c0a15fd523b21038e9be2963a520c148ee2"
   }
  }
 },
 "nbformat": 4,
 "nbformat_minor": 2
}
